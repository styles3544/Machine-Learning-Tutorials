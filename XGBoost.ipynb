{
 "cells": [
  {
   "cell_type": "markdown",
   "id": "34c78c1c",
   "metadata": {},
   "source": [
    "# Gradient Boosting"
   ]
  },
  {
   "cell_type": "markdown",
   "id": "9ac4dc26",
   "metadata": {},
   "source": [
    "### Introduction"
   ]
  },
  {
   "cell_type": "markdown",
   "id": "afaafd46",
   "metadata": {},
   "source": [
    "##### What is \"ensemble method\"?"
   ]
  },
  {
   "cell_type": "markdown",
   "id": "c5d06ecc",
   "metadata": {},
   "source": [
    "The random forest method, which achieves better performance than a single decision tree simply by averaging the predictions of many decision trees."
   ]
  },
  {
   "cell_type": "markdown",
   "id": "030bff9c",
   "metadata": {},
   "source": [
    "We refer to the random forest method as an \"ensemble method\". By definition, ensemble methods combine the predictions of several models (e.g., several trees, in the case of random forests)."
   ]
  },
  {
   "cell_type": "markdown",
   "id": "944be4c3",
   "metadata": {},
   "source": [
    "#### Gradient Boosting"
   ]
  },
  {
   "cell_type": "markdown",
   "id": "2c00dc33",
   "metadata": {},
   "source": [
    "Gradient boosting is a method that goes through cycles to iteratively add models into an ensemble."
   ]
  },
  {
   "cell_type": "markdown",
   "id": "d3b421a2",
   "metadata": {},
   "source": [
    "It begins by initializing the ensemble with a single model, whose predictions can be pretty naive. (Even if its predictions are wildly inaccurate, subsequent additions to the ensemble will address those errors.)"
   ]
  },
  {
   "cell_type": "markdown",
   "id": "e60acfb4",
   "metadata": {},
   "source": [
    "Then, we start the cycle:\n",
    "\n",
    "1. First, we use the current ensemble to generate predictions for each observation in the dataset. To make a prediction, we add the predictions from all models in the ensemble.\n",
    "\n",
    "\n",
    "2. These predictions are used to calculate a loss function (like mean squared error, for instance).\n",
    "\n",
    "\n",
    "3. Then, we use the loss function to fit a new model that will be added to the ensemble. Specifically, we determine model parameters so that adding this new model to the ensemble will reduce the loss. (Side note: The \"gradient\" in \"gradient boosting\" refers to the fact that we'll use gradient descent on the loss function to determine the parameters in this new model.)\n",
    "\n",
    "\n",
    "4. Finally, we add the new model to ensemble, and ...\n",
    "\n",
    "\n",
    "5. ... repeat!"
   ]
  },
  {
   "cell_type": "markdown",
   "id": "5666a426",
   "metadata": {},
   "source": [
    "![](xgb.png)"
   ]
  },
  {
   "cell_type": "code",
   "execution_count": 1,
   "id": "b23abc45",
   "metadata": {},
   "outputs": [],
   "source": [
    "import pandas as pd\n",
    "\n",
    "# Read the data\n",
    "data = pd.read_csv('datasets/melb_data.csv')\n",
    "\n",
    "# Select subset of predictors\n",
    "cols_to_use = ['Rooms', 'Distance', 'Landsize', 'BuildingArea', 'YearBuilt']\n",
    "X = data[cols_to_use]\n",
    "\n",
    "# Select target\n",
    "y = data.Price"
   ]
  },
  {
   "cell_type": "code",
   "execution_count": 2,
   "id": "41ef88d5",
   "metadata": {},
   "outputs": [],
   "source": [
    "# Separate data into training and validation sets\n",
    "from sklearn.model_selection import train_test_split\n",
    "\n",
    "X_train, X_valid, y_train, y_valid = train_test_split(X, y)"
   ]
  },
  {
   "cell_type": "markdown",
   "id": "0db9beba",
   "metadata": {},
   "source": [
    "The XGBoost library. XGBoost stands for extreme gradient boosting, which is an implementation of gradient boosting with several additional features focused on performance and speed. (Scikit-learn has another version of gradient boosting, but XGBoost has some technical advantages.)\n",
    "\n",
    "In the next code cell, we import the scikit-learn API for XGBoost (xgboost.XGBRegressor). This allows us to build and fit a model just as we would in scikit-learn. As you'll see in the output, the XGBRegressor class has many tunable parameters "
   ]
  },
  {
   "cell_type": "code",
   "execution_count": 3,
   "id": "4270b203",
   "metadata": {},
   "outputs": [
    {
     "data": {
      "text/plain": [
       "XGBRegressor(base_score=0.5, booster='gbtree', colsample_bylevel=1,\n",
       "             colsample_bynode=1, colsample_bytree=1, enable_categorical=False,\n",
       "             gamma=0, gpu_id=-1, importance_type=None,\n",
       "             interaction_constraints='', learning_rate=0.300000012,\n",
       "             max_delta_step=0, max_depth=6, min_child_weight=1, missing=nan,\n",
       "             monotone_constraints='()', n_estimators=100, n_jobs=8,\n",
       "             num_parallel_tree=1, predictor='auto', random_state=0, reg_alpha=0,\n",
       "             reg_lambda=1, scale_pos_weight=1, subsample=1, tree_method='exact',\n",
       "             validate_parameters=1, verbosity=None)"
      ]
     },
     "execution_count": 3,
     "metadata": {},
     "output_type": "execute_result"
    }
   ],
   "source": [
    "from xgboost import XGBRegressor\n",
    "\n",
    "model = XGBRegressor()\n",
    "model.fit(X_train, y_train)"
   ]
  },
  {
   "cell_type": "code",
   "execution_count": 5,
   "id": "f7b68deb",
   "metadata": {},
   "outputs": [
    {
     "name": "stdout",
     "output_type": "stream",
     "text": [
      "MAE after using xgboost is:  246575.75789994476\n"
     ]
    }
   ],
   "source": [
    "# getting scores\n",
    "from sklearn.metrics import mean_absolute_error\n",
    "\n",
    "preds = model.predict(X_valid)\n",
    "\n",
    "print(\"MAE after using xgboost is: \", mean_absolute_error(preds, y_valid))"
   ]
  },
  {
   "cell_type": "markdown",
   "id": "f4a88f0b",
   "metadata": {},
   "source": [
    "# Parameter Tuining"
   ]
  },
  {
   "cell_type": "markdown",
   "id": "af952fac",
   "metadata": {},
   "source": [
    "XGBoost has a few parameters that can dramatically affect accuracy and training speed. The first parameters you should understand are:\n",
    "\n",
    "[n_estimators]()\n",
    "\n",
    "\n",
    "n_estimators specifies how many times to go through the modeling cycle described above. It is equal to the number of models that we include in the ensemble.\n",
    "\n",
    "Too low a value causes underfitting, which leads to inaccurate predictions on both training data and test data.\n",
    "Too high a value causes overfitting, which causes accurate predictions on training data, but inaccurate predictions on test data (which is what we care about).\n",
    "\n",
    "\n",
    "Typical values range from 100-1000, though this depends a lot on the learning_rate parameter."
   ]
  },
  {
   "cell_type": "markdown",
   "id": "3ce06ae3",
   "metadata": {},
   "source": [
    "[early_stopping_rounds]()\n",
    "\n",
    "\n",
    "early_stopping_rounds offers a way to automatically find the ideal value for n_estimators. Early stopping causes the model to stop iterating when the validation score stops improving, even if we aren't at the hard stop for n_estimators. It's smart to set a high value for n_estimators and then use early_stopping_rounds to find the optimal time to stop iterating.\n",
    "\n",
    "\n",
    "Since random chance sometimes causes a single round where validation scores don't improve, you need to specify a number for how many rounds of straight deterioration to allow before stopping. Setting early_stopping_rounds=5 is a reasonable choice. In this case, we stop after 5 straight rounds of deteriorating validation scores.\n",
    "\n",
    "\n",
    "When using early_stopping_rounds, you also need to set aside some data for calculating the validation scores - this is done by setting the eval_set parameter."
   ]
  },
  {
   "cell_type": "markdown",
   "id": "2d45774c",
   "metadata": {},
   "source": [
    "If you later want to fit a model with all of your data, set n_estimators to whatever value you found to be optimal when run with early stopping.\n",
    "\n",
    "\n",
    "[learning_rate]()\n",
    "\n",
    "\n",
    "Instead of getting predictions by simply adding up the predictions from each component model, we can multiply the predictions from each model by a small number (known as the learning rate) before adding them in.\n",
    "\n",
    "\n",
    "This means each tree we add to the ensemble helps us less. So, we can set a higher value for n_estimators without overfitting. If we use early stopping, the appropriate number of trees will be determined automatically.\n",
    "\n",
    "\n",
    "In general, a small learning rate and large number of estimators will yield more accurate XGBoost models, though it will also take the model longer to train since it does more iterations through the cycle. As default, XGBoost sets learning_rate=0.1."
   ]
  },
  {
   "cell_type": "markdown",
   "id": "67f33d0a",
   "metadata": {},
   "source": [
    "[n_jobs]()\n",
    "\n",
    "\n",
    "On larger datasets where runtime is a consideration, you can use parallelism to build your models faster. It's common to set the parameter n_jobs equal to the number of cores on your machine. On smaller datasets, this won't help.\n",
    "\n",
    "\n",
    "The resulting model won't be any better, so micro-optimizing for fitting time is typically nothing but a distraction. But, it's useful in large datasets where you would otherwise spend a long time waiting during the fit command."
   ]
  },
  {
   "cell_type": "code",
   "execution_count": 6,
   "id": "424b8f34",
   "metadata": {},
   "outputs": [
    {
     "data": {
      "text/plain": [
       "XGBRegressor(base_score=0.5, booster='gbtree', colsample_bylevel=1,\n",
       "             colsample_bynode=1, colsample_bytree=1, enable_categorical=False,\n",
       "             gamma=0, gpu_id=-1, importance_type=None,\n",
       "             interaction_constraints='', learning_rate=0.05, max_delta_step=0,\n",
       "             max_depth=6, min_child_weight=1, missing=nan,\n",
       "             monotone_constraints='()', n_estimators=1000, n_jobs=4,\n",
       "             num_parallel_tree=1, predictor='auto', random_state=0, reg_alpha=0,\n",
       "             reg_lambda=1, scale_pos_weight=1, subsample=1, tree_method='exact',\n",
       "             validate_parameters=1, verbosity=None)"
      ]
     },
     "execution_count": 6,
     "metadata": {},
     "output_type": "execute_result"
    }
   ],
   "source": [
    "my_model = XGBRegressor(n_estimators=1000, learning_rate=0.05, n_jobs=4)\n",
    "\n",
    "my_model.fit(X_train, y_train, \n",
    "             early_stopping_rounds=5, \n",
    "             eval_set=[(X_valid, y_valid)], \n",
    "             verbose=False)"
   ]
  },
  {
   "cell_type": "code",
   "execution_count": 7,
   "id": "b4b2a88d",
   "metadata": {},
   "outputs": [
    {
     "name": "stdout",
     "output_type": "stream",
     "text": [
      "MAE after hyper parameter tuining of xgboost is:  246575.75789994476\n"
     ]
    }
   ],
   "source": [
    "predictions = model.predict(X_valid)\n",
    "\n",
    "print(\"MAE after hyper parameter tuining of xgboost is: \", mean_absolute_error(predictions, y_valid))"
   ]
  },
  {
   "cell_type": "markdown",
   "id": "4c584cc2",
   "metadata": {},
   "source": [
    "[XGBoost](https://xgboost.readthedocs.io/en/latest/) is a leading software library for working with standard tabular data (the type of data you store in Pandas DataFrames, as opposed to more exotic types of data like images and videos). With careful parameter tuning, you can train highly accurate models."
   ]
  },
  {
   "cell_type": "markdown",
   "id": "d48f9c66",
   "metadata": {},
   "source": [
    "###### Note: High 'learning_rate' (>0.3) and very low (<100) 'n_estimators' affects the model accuracy a lot! ---> Noticed from trying out various combinations of parameters"
   ]
  },
  {
   "cell_type": "code",
   "execution_count": null,
   "id": "0ddcf7a4",
   "metadata": {},
   "outputs": [],
   "source": []
  }
 ],
 "metadata": {
  "kernelspec": {
   "display_name": "Python 3 (ipykernel)",
   "language": "python",
   "name": "python3"
  },
  "language_info": {
   "codemirror_mode": {
    "name": "ipython",
    "version": 3
   },
   "file_extension": ".py",
   "mimetype": "text/x-python",
   "name": "python",
   "nbconvert_exporter": "python",
   "pygments_lexer": "ipython3",
   "version": "3.9.6"
  }
 },
 "nbformat": 4,
 "nbformat_minor": 5
}
