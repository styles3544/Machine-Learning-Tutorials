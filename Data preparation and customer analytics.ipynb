{
 "cells": [
  {
   "cell_type": "markdown",
   "id": "6676b31f",
   "metadata": {},
   "source": [
    "# Data preparation and customer analytics\n",
    "\n",
    "## Author: Piyush Kumar"
   ]
  },
  {
   "cell_type": "markdown",
   "id": "dd716bd2",
   "metadata": {},
   "source": [
    "#### Description of some random variables\n",
    "\n",
    "LIFESTAGE: \n",
    "Customer attribute that identifies whether a customer has a family or not and what point in life they are at e.g. are their children in pre-school/primary/secondary school.\n",
    "\n",
    "PREMIUM_CUSTOMER: \n",
    "Customer segmentation used to differentiate shoppers by the price point of products they buy and the types of products they buy. It is used to identify whether customers may spend more for quality or brand or whether they will purchase the cheapest options.\n"
   ]
  },
  {
   "cell_type": "code",
   "execution_count": 1,
   "id": "d0a5f489",
   "metadata": {},
   "outputs": [],
   "source": [
    "# Importing libraries\n",
    "\n",
    "import numpy as np\n",
    "import matplotlib.pyplot as plt\n",
    "import pandas as pd\n",
    "import seaborn as sns\n",
    "%matplotlib inline"
   ]
  },
  {
   "cell_type": "markdown",
   "id": "4578b546",
   "metadata": {},
   "source": [
    "## EDA - QVI Transaction data"
   ]
  },
  {
   "cell_type": "code",
   "execution_count": 2,
   "id": "53cac525",
   "metadata": {},
   "outputs": [
    {
     "data": {
      "text/html": [
       "<div>\n",
       "<style scoped>\n",
       "    .dataframe tbody tr th:only-of-type {\n",
       "        vertical-align: middle;\n",
       "    }\n",
       "\n",
       "    .dataframe tbody tr th {\n",
       "        vertical-align: top;\n",
       "    }\n",
       "\n",
       "    .dataframe thead th {\n",
       "        text-align: right;\n",
       "    }\n",
       "</style>\n",
       "<table border=\"1\" class=\"dataframe\">\n",
       "  <thead>\n",
       "    <tr style=\"text-align: right;\">\n",
       "      <th></th>\n",
       "      <th>DATE</th>\n",
       "      <th>STORE_NBR</th>\n",
       "      <th>LYLTY_CARD_NBR</th>\n",
       "      <th>TXN_ID</th>\n",
       "      <th>PROD_NBR</th>\n",
       "      <th>PROD_NAME</th>\n",
       "      <th>PROD_QTY</th>\n",
       "      <th>TOT_SALES</th>\n",
       "    </tr>\n",
       "  </thead>\n",
       "  <tbody>\n",
       "    <tr>\n",
       "      <th>0</th>\n",
       "      <td>43390</td>\n",
       "      <td>1</td>\n",
       "      <td>1000</td>\n",
       "      <td>1</td>\n",
       "      <td>5</td>\n",
       "      <td>Natural Chip        Compny SeaSalt175g</td>\n",
       "      <td>2</td>\n",
       "      <td>6.0</td>\n",
       "    </tr>\n",
       "    <tr>\n",
       "      <th>1</th>\n",
       "      <td>43599</td>\n",
       "      <td>1</td>\n",
       "      <td>1307</td>\n",
       "      <td>348</td>\n",
       "      <td>66</td>\n",
       "      <td>CCs Nacho Cheese    175g</td>\n",
       "      <td>3</td>\n",
       "      <td>6.3</td>\n",
       "    </tr>\n",
       "    <tr>\n",
       "      <th>2</th>\n",
       "      <td>43605</td>\n",
       "      <td>1</td>\n",
       "      <td>1343</td>\n",
       "      <td>383</td>\n",
       "      <td>61</td>\n",
       "      <td>Smiths Crinkle Cut  Chips Chicken 170g</td>\n",
       "      <td>2</td>\n",
       "      <td>2.9</td>\n",
       "    </tr>\n",
       "    <tr>\n",
       "      <th>3</th>\n",
       "      <td>43329</td>\n",
       "      <td>2</td>\n",
       "      <td>2373</td>\n",
       "      <td>974</td>\n",
       "      <td>69</td>\n",
       "      <td>Smiths Chip Thinly  S/Cream&amp;Onion 175g</td>\n",
       "      <td>5</td>\n",
       "      <td>15.0</td>\n",
       "    </tr>\n",
       "    <tr>\n",
       "      <th>4</th>\n",
       "      <td>43330</td>\n",
       "      <td>2</td>\n",
       "      <td>2426</td>\n",
       "      <td>1038</td>\n",
       "      <td>108</td>\n",
       "      <td>Kettle Tortilla ChpsHny&amp;Jlpno Chili 150g</td>\n",
       "      <td>3</td>\n",
       "      <td>13.8</td>\n",
       "    </tr>\n",
       "  </tbody>\n",
       "</table>\n",
       "</div>"
      ],
      "text/plain": [
       "    DATE  STORE_NBR  LYLTY_CARD_NBR  TXN_ID  PROD_NBR  \\\n",
       "0  43390          1            1000       1         5   \n",
       "1  43599          1            1307     348        66   \n",
       "2  43605          1            1343     383        61   \n",
       "3  43329          2            2373     974        69   \n",
       "4  43330          2            2426    1038       108   \n",
       "\n",
       "                                  PROD_NAME  PROD_QTY  TOT_SALES  \n",
       "0    Natural Chip        Compny SeaSalt175g         2        6.0  \n",
       "1                  CCs Nacho Cheese    175g         3        6.3  \n",
       "2    Smiths Crinkle Cut  Chips Chicken 170g         2        2.9  \n",
       "3    Smiths Chip Thinly  S/Cream&Onion 175g         5       15.0  \n",
       "4  Kettle Tortilla ChpsHny&Jlpno Chili 150g         3       13.8  "
      ]
     },
     "execution_count": 2,
     "metadata": {},
     "output_type": "execute_result"
    }
   ],
   "source": [
    "# Reading the csv\n",
    "path = 'Quantium and Forage Virtual Exp Prog/QVI_transaction_data.xlsx'\n",
    "df = pd.read_excel(path)\n",
    "df.head()"
   ]
  },
  {
   "cell_type": "markdown",
   "id": "5a6e44bd",
   "metadata": {},
   "source": [
    "## Getting to know the data"
   ]
  },
  {
   "cell_type": "code",
   "execution_count": 3,
   "id": "9659e0e9",
   "metadata": {},
   "outputs": [
    {
     "name": "stdout",
     "output_type": "stream",
     "text": [
      "<class 'pandas.core.frame.DataFrame'>\n",
      "RangeIndex: 264836 entries, 0 to 264835\n",
      "Data columns (total 8 columns):\n",
      " #   Column          Non-Null Count   Dtype  \n",
      "---  ------          --------------   -----  \n",
      " 0   DATE            264836 non-null  int64  \n",
      " 1   STORE_NBR       264836 non-null  int64  \n",
      " 2   LYLTY_CARD_NBR  264836 non-null  int64  \n",
      " 3   TXN_ID          264836 non-null  int64  \n",
      " 4   PROD_NBR        264836 non-null  int64  \n",
      " 5   PROD_NAME       264836 non-null  object \n",
      " 6   PROD_QTY        264836 non-null  int64  \n",
      " 7   TOT_SALES       264836 non-null  float64\n",
      "dtypes: float64(1), int64(6), object(1)\n",
      "memory usage: 16.2+ MB\n"
     ]
    }
   ],
   "source": [
    "# Getting info of the dataset\n",
    "df.info()"
   ]
  },
  {
   "cell_type": "markdown",
   "id": "b2074392",
   "metadata": {},
   "source": [
    "All the random variables seems to have correct type."
   ]
  },
  {
   "cell_type": "code",
   "execution_count": 4,
   "id": "300aca8b",
   "metadata": {},
   "outputs": [
    {
     "data": {
      "text/plain": [
       "DATE              0\n",
       "STORE_NBR         0\n",
       "LYLTY_CARD_NBR    0\n",
       "TXN_ID            0\n",
       "PROD_NBR          0\n",
       "PROD_NAME         0\n",
       "PROD_QTY          0\n",
       "TOT_SALES         0\n",
       "dtype: int64"
      ]
     },
     "execution_count": 4,
     "metadata": {},
     "output_type": "execute_result"
    }
   ],
   "source": [
    "# Checking for null values\n",
    "df.isnull().sum()"
   ]
  },
  {
   "cell_type": "markdown",
   "id": "7251e7e1",
   "metadata": {},
   "source": [
    "No null values are present in the dataset"
   ]
  },
  {
   "cell_type": "code",
   "execution_count": 5,
   "id": "7a3b3278",
   "metadata": {},
   "outputs": [
    {
     "data": {
      "text/plain": [
       "226    2022\n",
       "88     1873\n",
       "93     1832\n",
       "165    1819\n",
       "237    1785\n",
       "       ... \n",
       "11        2\n",
       "252       2\n",
       "206       2\n",
       "92        1\n",
       "76        1\n",
       "Name: STORE_NBR, Length: 272, dtype: int64"
      ]
     },
     "execution_count": 5,
     "metadata": {},
     "output_type": "execute_result"
    }
   ],
   "source": [
    "# Number of unique values in store number\n",
    "df['STORE_NBR'].value_counts()"
   ]
  },
  {
   "cell_type": "code",
   "execution_count": 6,
   "id": "9959495a",
   "metadata": {},
   "outputs": [
    {
     "data": {
      "text/plain": [
       "count    264836.00000\n",
       "mean        135.08011\n",
       "std          76.78418\n",
       "min           1.00000\n",
       "25%          70.00000\n",
       "50%         130.00000\n",
       "75%         203.00000\n",
       "max         272.00000\n",
       "Name: STORE_NBR, dtype: float64"
      ]
     },
     "execution_count": 6,
     "metadata": {},
     "output_type": "execute_result"
    }
   ],
   "source": [
    "# Total number of store number values - not unique\n",
    "df['STORE_NBR'].describe()"
   ]
  },
  {
   "cell_type": "code",
   "execution_count": 7,
   "id": "03d34c01",
   "metadata": {},
   "outputs": [
    {
     "data": {
      "text/plain": [
       "array([  2,   3,   5,   1,   4, 200], dtype=int64)"
      ]
     },
     "execution_count": 7,
     "metadata": {},
     "output_type": "execute_result"
    }
   ],
   "source": [
    "# Number of unique values in PROD_QTY\n",
    "df['PROD_QTY'].unique()"
   ]
  },
  {
   "cell_type": "markdown",
   "id": "d73929a8",
   "metadata": {},
   "source": [
    "## Finding Outliers"
   ]
  },
  {
   "cell_type": "code",
   "execution_count": 8,
   "id": "ca609f55",
   "metadata": {},
   "outputs": [
    {
     "data": {
      "image/png": "[encoded data removed]",
      "text/plain": [
       "<Figure size 432x288 with 1 Axes>"
      ]
     },
     "metadata": {
      "needs_background": "light"
     },
     "output_type": "display_data"
    }
   ],
   "source": [
    "# Visualizing PROD_QTY on a box plot for finding outliers\n",
    "\n",
    "figure = df.boxplot(column='PROD_QTY', grid=True)"
   ]
  },
  {
   "cell_type": "markdown",
   "id": "5772bf8a",
   "metadata": {},
   "source": [
    "We can see from the above boxplot that there is an outlier in \"PROD_QTY\" column of the dataset"
   ]
  },
  {
   "cell_type": "code",
   "execution_count": 9,
   "id": "702833f1",
   "metadata": {},
   "outputs": [
    {
     "data": {
      "text/plain": [
       "count    264836.000000\n",
       "mean          7.304200\n",
       "std           3.083226\n",
       "min           1.500000\n",
       "25%           5.400000\n",
       "50%           7.400000\n",
       "75%           9.200000\n",
       "max         650.000000\n",
       "Name: TOT_SALES, dtype: float64"
      ]
     },
     "execution_count": 9,
     "metadata": {},
     "output_type": "execute_result"
    }
   ],
   "source": [
    "# Description of sales\n",
    "df['TOT_SALES'].describe()"
   ]
  },
  {
   "cell_type": "markdown",
   "id": "ec18cae7",
   "metadata": {},
   "source": [
    "The difference between the 3rd Quantile value and the max is huge so there is a possibility of outliers present in the column"
   ]
  },
  {
   "cell_type": "code",
   "execution_count": 10,
   "id": "28f19b5f",
   "metadata": {},
   "outputs": [
    {
     "data": {
      "image/png": "[encoded data removed]",
      "text/plain": [
       "<Figure size 432x288 with 1 Axes>"
      ]
     },
     "metadata": {
      "needs_background": "light"
     },
     "output_type": "display_data"
    }
   ],
   "source": [
    "# Visualizing TOT_SALES on a box plot for finding outliers\n",
    "\n",
    "figure = df.boxplot(column='TOT_SALES', grid=True)"
   ]
  },
  {
   "cell_type": "markdown",
   "id": "984f2146",
   "metadata": {},
   "source": [
    "We can see from the above boxplot that there is an outlier in \"TOT_SALES\" column of the dataset"
   ]
  },
  {
   "cell_type": "code",
   "execution_count": 11,
   "id": "316b9e0c",
   "metadata": {},
   "outputs": [
    {
     "data": {
      "text/plain": [
       "array([  1000,   1307,   1343, ..., 272358, 272379, 272380], dtype=int64)"
      ]
     },
     "execution_count": 11,
     "metadata": {},
     "output_type": "execute_result"
    }
   ],
   "source": [
    "df['LYLTY_CARD_NBR'].unique()"
   ]
  },
  {
   "cell_type": "code",
   "execution_count": 12,
   "id": "ff36eb74",
   "metadata": {},
   "outputs": [
    {
     "data": {
      "text/plain": [
       "172032    18\n",
       "162039    18\n",
       "230078    17\n",
       "128178    17\n",
       "13138     17\n",
       "          ..\n",
       "22190      1\n",
       "22138      1\n",
       "22099      1\n",
       "22089      1\n",
       "272380     1\n",
       "Name: LYLTY_CARD_NBR, Length: 72637, dtype: int64"
      ]
     },
     "execution_count": 12,
     "metadata": {},
     "output_type": "execute_result"
    }
   ],
   "source": [
    "df['LYLTY_CARD_NBR'].value_counts()"
   ]
  },
  {
   "cell_type": "code",
   "execution_count": 13,
   "id": "9f0eb532",
   "metadata": {},
   "outputs": [
    {
     "data": {
      "text/plain": [
       "Kettle Mozzarella   Basil & Pesto 175g      3304\n",
       "Kettle Tortilla ChpsHny&Jlpno Chili 150g    3296\n",
       "Cobs Popd Swt/Chlli &Sr/Cream Chips 110g    3269\n",
       "Tyrrells Crisps     Ched & Chives 165g      3268\n",
       "Cobs Popd Sea Salt  Chips 110g              3265\n",
       "                                            ... \n",
       "RRD Pc Sea Salt     165g                    1431\n",
       "Woolworths Medium   Salsa 300g              1430\n",
       "NCC Sour Cream &    Garden Chives 175g      1419\n",
       "French Fries Potato Chips 175g              1418\n",
       "WW Crinkle Cut      Original 175g           1410\n",
       "Name: PROD_NAME, Length: 114, dtype: int64"
      ]
     },
     "execution_count": 13,
     "metadata": {},
     "output_type": "execute_result"
    }
   ],
   "source": [
    "df['PROD_NAME'].value_counts()"
   ]
  },
  {
   "cell_type": "markdown",
   "id": "b1c8a9c0",
   "metadata": {},
   "source": [
    "The unique card numbers are more than the number of unique products avilable. This implies that the number of customers are way more than the number of products which means that a single customer is buying more than one brand of chips."
   ]
  },
  {
   "cell_type": "code",
   "execution_count": 14,
   "id": "eadeefb1",
   "metadata": {},
   "outputs": [
    {
     "data": {
      "text/html": [
       "<div>\n",
       "<style scoped>\n",
       "    .dataframe tbody tr th:only-of-type {\n",
       "        vertical-align: middle;\n",
       "    }\n",
       "\n",
       "    .dataframe tbody tr th {\n",
       "        vertical-align: top;\n",
       "    }\n",
       "\n",
       "    .dataframe thead th {\n",
       "        text-align: right;\n",
       "    }\n",
       "</style>\n",
       "<table border=\"1\" class=\"dataframe\">\n",
       "  <thead>\n",
       "    <tr style=\"text-align: right;\">\n",
       "      <th></th>\n",
       "      <th>DATE</th>\n",
       "      <th>STORE_NBR</th>\n",
       "      <th>LYLTY_CARD_NBR</th>\n",
       "      <th>TXN_ID</th>\n",
       "      <th>PROD_NBR</th>\n",
       "      <th>PROD_NAME</th>\n",
       "      <th>PROD_QTY</th>\n",
       "      <th>TOT_SALES</th>\n",
       "    </tr>\n",
       "  </thead>\n",
       "  <tbody>\n",
       "    <tr>\n",
       "      <th>0</th>\n",
       "      <td>43390</td>\n",
       "      <td>1</td>\n",
       "      <td>1000</td>\n",
       "      <td>1</td>\n",
       "      <td>5</td>\n",
       "      <td>Natural Chip        Compny SeaSalt175g</td>\n",
       "      <td>2</td>\n",
       "      <td>6.0</td>\n",
       "    </tr>\n",
       "    <tr>\n",
       "      <th>1</th>\n",
       "      <td>43599</td>\n",
       "      <td>1</td>\n",
       "      <td>1307</td>\n",
       "      <td>348</td>\n",
       "      <td>66</td>\n",
       "      <td>CCs Nacho Cheese    175g</td>\n",
       "      <td>3</td>\n",
       "      <td>6.3</td>\n",
       "    </tr>\n",
       "    <tr>\n",
       "      <th>2</th>\n",
       "      <td>43605</td>\n",
       "      <td>1</td>\n",
       "      <td>1343</td>\n",
       "      <td>383</td>\n",
       "      <td>61</td>\n",
       "      <td>Smiths Crinkle Cut  Chips Chicken 170g</td>\n",
       "      <td>2</td>\n",
       "      <td>2.9</td>\n",
       "    </tr>\n",
       "    <tr>\n",
       "      <th>3</th>\n",
       "      <td>43329</td>\n",
       "      <td>2</td>\n",
       "      <td>2373</td>\n",
       "      <td>974</td>\n",
       "      <td>69</td>\n",
       "      <td>Smiths Chip Thinly  S/Cream&amp;Onion 175g</td>\n",
       "      <td>5</td>\n",
       "      <td>15.0</td>\n",
       "    </tr>\n",
       "    <tr>\n",
       "      <th>4</th>\n",
       "      <td>43330</td>\n",
       "      <td>2</td>\n",
       "      <td>2426</td>\n",
       "      <td>1038</td>\n",
       "      <td>108</td>\n",
       "      <td>Kettle Tortilla ChpsHny&amp;Jlpno Chili 150g</td>\n",
       "      <td>3</td>\n",
       "      <td>13.8</td>\n",
       "    </tr>\n",
       "  </tbody>\n",
       "</table>\n",
       "</div>"
      ],
      "text/plain": [
       "    DATE  STORE_NBR  LYLTY_CARD_NBR  TXN_ID  PROD_NBR  \\\n",
       "0  43390          1            1000       1         5   \n",
       "1  43599          1            1307     348        66   \n",
       "2  43605          1            1343     383        61   \n",
       "3  43329          2            2373     974        69   \n",
       "4  43330          2            2426    1038       108   \n",
       "\n",
       "                                  PROD_NAME  PROD_QTY  TOT_SALES  \n",
       "0    Natural Chip        Compny SeaSalt175g         2        6.0  \n",
       "1                  CCs Nacho Cheese    175g         3        6.3  \n",
       "2    Smiths Crinkle Cut  Chips Chicken 170g         2        2.9  \n",
       "3    Smiths Chip Thinly  S/Cream&Onion 175g         5       15.0  \n",
       "4  Kettle Tortilla ChpsHny&Jlpno Chili 150g         3       13.8  "
      ]
     },
     "execution_count": 14,
     "metadata": {},
     "output_type": "execute_result"
    }
   ],
   "source": [
    "mod_df = df.copy()\n",
    "mod_df.head()"
   ]
  },
  {
   "cell_type": "markdown",
   "id": "fd138c67",
   "metadata": {},
   "source": [
    "## Deriving Features: BRD_NAME and PACK_SIZE"
   ]
  },
  {
   "cell_type": "code",
   "execution_count": 15,
   "id": "3d94a9f3",
   "metadata": {},
   "outputs": [
    {
     "data": {
      "text/html": [
       "<div>\n",
       "<style scoped>\n",
       "    .dataframe tbody tr th:only-of-type {\n",
       "        vertical-align: middle;\n",
       "    }\n",
       "\n",
       "    .dataframe tbody tr th {\n",
       "        vertical-align: top;\n",
       "    }\n",
       "\n",
       "    .dataframe thead th {\n",
       "        text-align: right;\n",
       "    }\n",
       "</style>\n",
       "<table border=\"1\" class=\"dataframe\">\n",
       "  <thead>\n",
       "    <tr style=\"text-align: right;\">\n",
       "      <th></th>\n",
       "      <th>DATE</th>\n",
       "      <th>STORE_NBR</th>\n",
       "      <th>LYLTY_CARD_NBR</th>\n",
       "      <th>TXN_ID</th>\n",
       "      <th>PROD_NBR</th>\n",
       "      <th>PROD_NAME</th>\n",
       "      <th>PROD_QTY</th>\n",
       "      <th>TOT_SALES</th>\n",
       "      <th>PACK_SZ</th>\n",
       "    </tr>\n",
       "  </thead>\n",
       "  <tbody>\n",
       "    <tr>\n",
       "      <th>0</th>\n",
       "      <td>43390</td>\n",
       "      <td>1</td>\n",
       "      <td>1000</td>\n",
       "      <td>1</td>\n",
       "      <td>5</td>\n",
       "      <td>Natural Chip        Compny SeaSalt175g</td>\n",
       "      <td>2</td>\n",
       "      <td>6.0</td>\n",
       "      <td>175g</td>\n",
       "    </tr>\n",
       "    <tr>\n",
       "      <th>1</th>\n",
       "      <td>43599</td>\n",
       "      <td>1</td>\n",
       "      <td>1307</td>\n",
       "      <td>348</td>\n",
       "      <td>66</td>\n",
       "      <td>CCs Nacho Cheese    175g</td>\n",
       "      <td>3</td>\n",
       "      <td>6.3</td>\n",
       "      <td>175g</td>\n",
       "    </tr>\n",
       "    <tr>\n",
       "      <th>2</th>\n",
       "      <td>43605</td>\n",
       "      <td>1</td>\n",
       "      <td>1343</td>\n",
       "      <td>383</td>\n",
       "      <td>61</td>\n",
       "      <td>Smiths Crinkle Cut  Chips Chicken 170g</td>\n",
       "      <td>2</td>\n",
       "      <td>2.9</td>\n",
       "      <td>170g</td>\n",
       "    </tr>\n",
       "    <tr>\n",
       "      <th>3</th>\n",
       "      <td>43329</td>\n",
       "      <td>2</td>\n",
       "      <td>2373</td>\n",
       "      <td>974</td>\n",
       "      <td>69</td>\n",
       "      <td>Smiths Chip Thinly  S/Cream&amp;Onion 175g</td>\n",
       "      <td>5</td>\n",
       "      <td>15.0</td>\n",
       "      <td>175g</td>\n",
       "    </tr>\n",
       "    <tr>\n",
       "      <th>4</th>\n",
       "      <td>43330</td>\n",
       "      <td>2</td>\n",
       "      <td>2426</td>\n",
       "      <td>1038</td>\n",
       "      <td>108</td>\n",
       "      <td>Kettle Tortilla ChpsHny&amp;Jlpno Chili 150g</td>\n",
       "      <td>3</td>\n",
       "      <td>13.8</td>\n",
       "      <td>150g</td>\n",
       "    </tr>\n",
       "  </tbody>\n",
       "</table>\n",
       "</div>"
      ],
      "text/plain": [
       "    DATE  STORE_NBR  LYLTY_CARD_NBR  TXN_ID  PROD_NBR  \\\n",
       "0  43390          1            1000       1         5   \n",
       "1  43599          1            1307     348        66   \n",
       "2  43605          1            1343     383        61   \n",
       "3  43329          2            2373     974        69   \n",
       "4  43330          2            2426    1038       108   \n",
       "\n",
       "                                  PROD_NAME  PROD_QTY  TOT_SALES PACK_SZ  \n",
       "0    Natural Chip        Compny SeaSalt175g         2        6.0    175g  \n",
       "1                  CCs Nacho Cheese    175g         3        6.3    175g  \n",
       "2    Smiths Crinkle Cut  Chips Chicken 170g         2        2.9    170g  \n",
       "3    Smiths Chip Thinly  S/Cream&Onion 175g         5       15.0    175g  \n",
       "4  Kettle Tortilla ChpsHny&Jlpno Chili 150g         3       13.8    150g  "
      ]
     },
     "execution_count": 15,
     "metadata": {},
     "output_type": "execute_result"
    }
   ],
   "source": [
    "mod_df['PACK_SZ'] = mod_df['PROD_NAME'].str[-4:]\n",
    "mod_df.head()"
   ]
  },
  {
   "cell_type": "code",
   "execution_count": 16,
   "id": "7b4d6249",
   "metadata": {},
   "outputs": [
    {
     "data": {
      "text/html": [
       "<div>\n",
       "<style scoped>\n",
       "    .dataframe tbody tr th:only-of-type {\n",
       "        vertical-align: middle;\n",
       "    }\n",
       "\n",
       "    .dataframe tbody tr th {\n",
       "        vertical-align: top;\n",
       "    }\n",
       "\n",
       "    .dataframe thead th {\n",
       "        text-align: right;\n",
       "    }\n",
       "</style>\n",
       "<table border=\"1\" class=\"dataframe\">\n",
       "  <thead>\n",
       "    <tr style=\"text-align: right;\">\n",
       "      <th></th>\n",
       "      <th>DATE</th>\n",
       "      <th>STORE_NBR</th>\n",
       "      <th>LYLTY_CARD_NBR</th>\n",
       "      <th>TXN_ID</th>\n",
       "      <th>PROD_NBR</th>\n",
       "      <th>PROD_NAME</th>\n",
       "      <th>PROD_QTY</th>\n",
       "      <th>TOT_SALES</th>\n",
       "      <th>PACK_SZ</th>\n",
       "      <th>PACK_SIZE</th>\n",
       "    </tr>\n",
       "  </thead>\n",
       "  <tbody>\n",
       "    <tr>\n",
       "      <th>0</th>\n",
       "      <td>43390</td>\n",
       "      <td>1</td>\n",
       "      <td>1000</td>\n",
       "      <td>1</td>\n",
       "      <td>5</td>\n",
       "      <td>Natural Chip        Compny SeaSalt175g</td>\n",
       "      <td>2</td>\n",
       "      <td>6.0</td>\n",
       "      <td>175g</td>\n",
       "      <td>175</td>\n",
       "    </tr>\n",
       "    <tr>\n",
       "      <th>1</th>\n",
       "      <td>43599</td>\n",
       "      <td>1</td>\n",
       "      <td>1307</td>\n",
       "      <td>348</td>\n",
       "      <td>66</td>\n",
       "      <td>CCs Nacho Cheese    175g</td>\n",
       "      <td>3</td>\n",
       "      <td>6.3</td>\n",
       "      <td>175g</td>\n",
       "      <td>175</td>\n",
       "    </tr>\n",
       "    <tr>\n",
       "      <th>2</th>\n",
       "      <td>43605</td>\n",
       "      <td>1</td>\n",
       "      <td>1343</td>\n",
       "      <td>383</td>\n",
       "      <td>61</td>\n",
       "      <td>Smiths Crinkle Cut  Chips Chicken 170g</td>\n",
       "      <td>2</td>\n",
       "      <td>2.9</td>\n",
       "      <td>170g</td>\n",
       "      <td>170</td>\n",
       "    </tr>\n",
       "    <tr>\n",
       "      <th>3</th>\n",
       "      <td>43329</td>\n",
       "      <td>2</td>\n",
       "      <td>2373</td>\n",
       "      <td>974</td>\n",
       "      <td>69</td>\n",
       "      <td>Smiths Chip Thinly  S/Cream&amp;Onion 175g</td>\n",
       "      <td>5</td>\n",
       "      <td>15.0</td>\n",
       "      <td>175g</td>\n",
       "      <td>175</td>\n",
       "    </tr>\n",
       "    <tr>\n",
       "      <th>4</th>\n",
       "      <td>43330</td>\n",
       "      <td>2</td>\n",
       "      <td>2426</td>\n",
       "      <td>1038</td>\n",
       "      <td>108</td>\n",
       "      <td>Kettle Tortilla ChpsHny&amp;Jlpno Chili 150g</td>\n",
       "      <td>3</td>\n",
       "      <td>13.8</td>\n",
       "      <td>150g</td>\n",
       "      <td>150</td>\n",
       "    </tr>\n",
       "  </tbody>\n",
       "</table>\n",
       "</div>"
      ],
      "text/plain": [
       "    DATE  STORE_NBR  LYLTY_CARD_NBR  TXN_ID  PROD_NBR  \\\n",
       "0  43390          1            1000       1         5   \n",
       "1  43599          1            1307     348        66   \n",
       "2  43605          1            1343     383        61   \n",
       "3  43329          2            2373     974        69   \n",
       "4  43330          2            2426    1038       108   \n",
       "\n",
       "                                  PROD_NAME  PROD_QTY  TOT_SALES PACK_SZ  \\\n",
       "0    Natural Chip        Compny SeaSalt175g         2        6.0    175g   \n",
       "1                  CCs Nacho Cheese    175g         3        6.3    175g   \n",
       "2    Smiths Crinkle Cut  Chips Chicken 170g         2        2.9    170g   \n",
       "3    Smiths Chip Thinly  S/Cream&Onion 175g         5       15.0    175g   \n",
       "4  Kettle Tortilla ChpsHny&Jlpno Chili 150g         3       13.8    150g   \n",
       "\n",
       "  PACK_SIZE  \n",
       "0       175  \n",
       "1       175  \n",
       "2       170  \n",
       "3       175  \n",
       "4       150  "
      ]
     },
     "execution_count": 16,
     "metadata": {},
     "output_type": "execute_result"
    }
   ],
   "source": [
    "mod_df['PACK_SIZE'] = mod_df['PACK_SZ'].str[-4:-1]\n",
    "mod_df.head()"
   ]
  },
  {
   "cell_type": "code",
   "execution_count": 17,
   "id": "7aa41dfb",
   "metadata": {},
   "outputs": [
    {
     "data": {
      "text/html": [
       "<div>\n",
       "<style scoped>\n",
       "    .dataframe tbody tr th:only-of-type {\n",
       "        vertical-align: middle;\n",
       "    }\n",
       "\n",
       "    .dataframe tbody tr th {\n",
       "        vertical-align: top;\n",
       "    }\n",
       "\n",
       "    .dataframe thead th {\n",
       "        text-align: right;\n",
       "    }\n",
       "</style>\n",
       "<table border=\"1\" class=\"dataframe\">\n",
       "  <thead>\n",
       "    <tr style=\"text-align: right;\">\n",
       "      <th></th>\n",
       "      <th>DATE</th>\n",
       "      <th>STORE_NBR</th>\n",
       "      <th>LYLTY_CARD_NBR</th>\n",
       "      <th>TXN_ID</th>\n",
       "      <th>PROD_NBR</th>\n",
       "      <th>PROD_NAME</th>\n",
       "      <th>PROD_QTY</th>\n",
       "      <th>TOT_SALES</th>\n",
       "      <th>PACK_SIZE</th>\n",
       "    </tr>\n",
       "  </thead>\n",
       "  <tbody>\n",
       "    <tr>\n",
       "      <th>0</th>\n",
       "      <td>43390</td>\n",
       "      <td>1</td>\n",
       "      <td>1000</td>\n",
       "      <td>1</td>\n",
       "      <td>5</td>\n",
       "      <td>Natural Chip        Compny SeaSalt175g</td>\n",
       "      <td>2</td>\n",
       "      <td>6.0</td>\n",
       "      <td>175</td>\n",
       "    </tr>\n",
       "    <tr>\n",
       "      <th>1</th>\n",
       "      <td>43599</td>\n",
       "      <td>1</td>\n",
       "      <td>1307</td>\n",
       "      <td>348</td>\n",
       "      <td>66</td>\n",
       "      <td>CCs Nacho Cheese    175g</td>\n",
       "      <td>3</td>\n",
       "      <td>6.3</td>\n",
       "      <td>175</td>\n",
       "    </tr>\n",
       "    <tr>\n",
       "      <th>2</th>\n",
       "      <td>43605</td>\n",
       "      <td>1</td>\n",
       "      <td>1343</td>\n",
       "      <td>383</td>\n",
       "      <td>61</td>\n",
       "      <td>Smiths Crinkle Cut  Chips Chicken 170g</td>\n",
       "      <td>2</td>\n",
       "      <td>2.9</td>\n",
       "      <td>170</td>\n",
       "    </tr>\n",
       "    <tr>\n",
       "      <th>3</th>\n",
       "      <td>43329</td>\n",
       "      <td>2</td>\n",
       "      <td>2373</td>\n",
       "      <td>974</td>\n",
       "      <td>69</td>\n",
       "      <td>Smiths Chip Thinly  S/Cream&amp;Onion 175g</td>\n",
       "      <td>5</td>\n",
       "      <td>15.0</td>\n",
       "      <td>175</td>\n",
       "    </tr>\n",
       "    <tr>\n",
       "      <th>4</th>\n",
       "      <td>43330</td>\n",
       "      <td>2</td>\n",
       "      <td>2426</td>\n",
       "      <td>1038</td>\n",
       "      <td>108</td>\n",
       "      <td>Kettle Tortilla ChpsHny&amp;Jlpno Chili 150g</td>\n",
       "      <td>3</td>\n",
       "      <td>13.8</td>\n",
       "      <td>150</td>\n",
       "    </tr>\n",
       "  </tbody>\n",
       "</table>\n",
       "</div>"
      ],
      "text/plain": [
       "    DATE  STORE_NBR  LYLTY_CARD_NBR  TXN_ID  PROD_NBR  \\\n",
       "0  43390          1            1000       1         5   \n",
       "1  43599          1            1307     348        66   \n",
       "2  43605          1            1343     383        61   \n",
       "3  43329          2            2373     974        69   \n",
       "4  43330          2            2426    1038       108   \n",
       "\n",
       "                                  PROD_NAME  PROD_QTY  TOT_SALES PACK_SIZE  \n",
       "0    Natural Chip        Compny SeaSalt175g         2        6.0       175  \n",
       "1                  CCs Nacho Cheese    175g         3        6.3       175  \n",
       "2    Smiths Crinkle Cut  Chips Chicken 170g         2        2.9       170  \n",
       "3    Smiths Chip Thinly  S/Cream&Onion 175g         5       15.0       175  \n",
       "4  Kettle Tortilla ChpsHny&Jlpno Chili 150g         3       13.8       150  "
      ]
     },
     "execution_count": 17,
     "metadata": {},
     "output_type": "execute_result"
    }
   ],
   "source": [
    "mod_df.drop(columns= 'PACK_SZ', axis=1, inplace=True)\n",
    "mod_df.head()"
   ]
  },
  {
   "cell_type": "code",
   "execution_count": 18,
   "id": "d5f3de8d",
   "metadata": {},
   "outputs": [
    {
     "data": {
      "text/plain": [
       "count     264836\n",
       "unique        21\n",
       "top          175\n",
       "freq       66390\n",
       "Name: PACK_SIZE, dtype: object"
      ]
     },
     "execution_count": 18,
     "metadata": {},
     "output_type": "execute_result"
    }
   ],
   "source": [
    "mod_df['PACK_SIZE'].describe()"
   ]
  },
  {
   "cell_type": "code",
   "execution_count": 20,
   "id": "10d6435a",
   "metadata": {},
   "outputs": [
    {
     "data": {
      "text/html": [
       "<div>\n",
       "<style scoped>\n",
       "    .dataframe tbody tr th:only-of-type {\n",
       "        vertical-align: middle;\n",
       "    }\n",
       "\n",
       "    .dataframe tbody tr th {\n",
       "        vertical-align: top;\n",
       "    }\n",
       "\n",
       "    .dataframe thead th {\n",
       "        text-align: right;\n",
       "    }\n",
       "</style>\n",
       "<table border=\"1\" class=\"dataframe\">\n",
       "  <thead>\n",
       "    <tr style=\"text-align: right;\">\n",
       "      <th></th>\n",
       "      <th>DATE</th>\n",
       "      <th>STORE_NBR</th>\n",
       "      <th>LYLTY_CARD_NBR</th>\n",
       "      <th>TXN_ID</th>\n",
       "      <th>PROD_NBR</th>\n",
       "      <th>PROD_NAME</th>\n",
       "      <th>PROD_QTY</th>\n",
       "      <th>TOT_SALES</th>\n",
       "      <th>PACK_SIZE</th>\n",
       "      <th>BRD_NAME</th>\n",
       "    </tr>\n",
       "  </thead>\n",
       "  <tbody>\n",
       "    <tr>\n",
       "      <th>0</th>\n",
       "      <td>43390</td>\n",
       "      <td>1</td>\n",
       "      <td>1000</td>\n",
       "      <td>1</td>\n",
       "      <td>5</td>\n",
       "      <td>Natural Chip        Compny SeaSalt175g</td>\n",
       "      <td>2</td>\n",
       "      <td>6.0</td>\n",
       "      <td>175</td>\n",
       "      <td>Natural Chip        Compny SeaSalt</td>\n",
       "    </tr>\n",
       "    <tr>\n",
       "      <th>1</th>\n",
       "      <td>43599</td>\n",
       "      <td>1</td>\n",
       "      <td>1307</td>\n",
       "      <td>348</td>\n",
       "      <td>66</td>\n",
       "      <td>CCs Nacho Cheese    175g</td>\n",
       "      <td>3</td>\n",
       "      <td>6.3</td>\n",
       "      <td>175</td>\n",
       "      <td>CCs Nacho Cheese</td>\n",
       "    </tr>\n",
       "    <tr>\n",
       "      <th>2</th>\n",
       "      <td>43605</td>\n",
       "      <td>1</td>\n",
       "      <td>1343</td>\n",
       "      <td>383</td>\n",
       "      <td>61</td>\n",
       "      <td>Smiths Crinkle Cut  Chips Chicken 170g</td>\n",
       "      <td>2</td>\n",
       "      <td>2.9</td>\n",
       "      <td>170</td>\n",
       "      <td>Smiths Crinkle Cut  Chips Chicken</td>\n",
       "    </tr>\n",
       "    <tr>\n",
       "      <th>3</th>\n",
       "      <td>43329</td>\n",
       "      <td>2</td>\n",
       "      <td>2373</td>\n",
       "      <td>974</td>\n",
       "      <td>69</td>\n",
       "      <td>Smiths Chip Thinly  S/Cream&amp;Onion 175g</td>\n",
       "      <td>5</td>\n",
       "      <td>15.0</td>\n",
       "      <td>175</td>\n",
       "      <td>Smiths Chip Thinly  S/Cream&amp;Onion</td>\n",
       "    </tr>\n",
       "    <tr>\n",
       "      <th>4</th>\n",
       "      <td>43330</td>\n",
       "      <td>2</td>\n",
       "      <td>2426</td>\n",
       "      <td>1038</td>\n",
       "      <td>108</td>\n",
       "      <td>Kettle Tortilla ChpsHny&amp;Jlpno Chili 150g</td>\n",
       "      <td>3</td>\n",
       "      <td>13.8</td>\n",
       "      <td>150</td>\n",
       "      <td>Kettle Tortilla ChpsHny&amp;Jlpno Chili</td>\n",
       "    </tr>\n",
       "  </tbody>\n",
       "</table>\n",
       "</div>"
      ],
      "text/plain": [
       "    DATE  STORE_NBR  LYLTY_CARD_NBR  TXN_ID  PROD_NBR  \\\n",
       "0  43390          1            1000       1         5   \n",
       "1  43599          1            1307     348        66   \n",
       "2  43605          1            1343     383        61   \n",
       "3  43329          2            2373     974        69   \n",
       "4  43330          2            2426    1038       108   \n",
       "\n",
       "                                  PROD_NAME  PROD_QTY  TOT_SALES PACK_SIZE  \\\n",
       "0    Natural Chip        Compny SeaSalt175g         2        6.0       175   \n",
       "1                  CCs Nacho Cheese    175g         3        6.3       175   \n",
       "2    Smiths Crinkle Cut  Chips Chicken 170g         2        2.9       170   \n",
       "3    Smiths Chip Thinly  S/Cream&Onion 175g         5       15.0       175   \n",
       "4  Kettle Tortilla ChpsHny&Jlpno Chili 150g         3       13.8       150   \n",
       "\n",
       "                               BRD_NAME  \n",
       "0    Natural Chip        Compny SeaSalt  \n",
       "1                  CCs Nacho Cheese      \n",
       "2    Smiths Crinkle Cut  Chips Chicken   \n",
       "3    Smiths Chip Thinly  S/Cream&Onion   \n",
       "4  Kettle Tortilla ChpsHny&Jlpno Chili   "
      ]
     },
     "execution_count": 20,
     "metadata": {},
     "output_type": "execute_result"
    }
   ],
   "source": [
    "# Deriving new feature 'BRD_NAME' or BRAND NAME\n",
    "mod_df['BRD_NAME'] = mod_df['PROD_NAME'].str[0:-4] \n",
    "mod_df.head()"
   ]
  },
  {
   "cell_type": "markdown",
   "id": "ec4a1af9",
   "metadata": {},
   "source": [
    "## Handling 'sal' string in \"PACK_SIZE\" using referance link: \"https://datatofish.com/string-to-integer-dataframe/\"\n",
    "## Converting 'PACK_SIZE' to numeric data"
   ]
  },
  {
   "cell_type": "code",
   "execution_count": 21,
   "id": "9ad10094",
   "metadata": {},
   "outputs": [],
   "source": [
    "# Handling 'sal' string in \"PACK_SIZE\" using referance link: https://datatofish.com/string-to-integer-dataframe/\n",
    "# Converting 'PACK_SIZE' to numeric data\n",
    "\n",
    "mod_df['PACK_SIZE'] = pd.to_numeric(mod_df['PACK_SIZE'], errors='coerce')"
   ]
  },
  {
   "cell_type": "code",
   "execution_count": 22,
   "id": "20d5f543",
   "metadata": {},
   "outputs": [
    {
     "data": {
      "text/html": [
       "<div>\n",
       "<style scoped>\n",
       "    .dataframe tbody tr th:only-of-type {\n",
       "        vertical-align: middle;\n",
       "    }\n",
       "\n",
       "    .dataframe tbody tr th {\n",
       "        vertical-align: top;\n",
       "    }\n",
       "\n",
       "    .dataframe thead th {\n",
       "        text-align: right;\n",
       "    }\n",
       "</style>\n",
       "<table border=\"1\" class=\"dataframe\">\n",
       "  <thead>\n",
       "    <tr style=\"text-align: right;\">\n",
       "      <th></th>\n",
       "      <th>DATE</th>\n",
       "      <th>STORE_NBR</th>\n",
       "      <th>LYLTY_CARD_NBR</th>\n",
       "      <th>TXN_ID</th>\n",
       "      <th>PROD_NBR</th>\n",
       "      <th>PROD_NAME</th>\n",
       "      <th>PROD_QTY</th>\n",
       "      <th>TOT_SALES</th>\n",
       "      <th>PACK_SIZE</th>\n",
       "      <th>BRD_NAME</th>\n",
       "    </tr>\n",
       "  </thead>\n",
       "  <tbody>\n",
       "    <tr>\n",
       "      <th>65</th>\n",
       "      <td>43605</td>\n",
       "      <td>83</td>\n",
       "      <td>83008</td>\n",
       "      <td>82099</td>\n",
       "      <td>63</td>\n",
       "      <td>Kettle 135g Swt Pot Sea Salt</td>\n",
       "      <td>2</td>\n",
       "      <td>8.4</td>\n",
       "      <td>NaN</td>\n",
       "      <td>Kettle 135g Swt Pot Sea</td>\n",
       "    </tr>\n",
       "    <tr>\n",
       "      <th>66</th>\n",
       "      <td>43599</td>\n",
       "      <td>83</td>\n",
       "      <td>83062</td>\n",
       "      <td>82438</td>\n",
       "      <td>25</td>\n",
       "      <td>Pringles SourCream  Onion 134g</td>\n",
       "      <td>2</td>\n",
       "      <td>7.4</td>\n",
       "      <td>134.0</td>\n",
       "      <td>Pringles SourCream  Onion</td>\n",
       "    </tr>\n",
       "    <tr>\n",
       "      <th>67</th>\n",
       "      <td>43328</td>\n",
       "      <td>83</td>\n",
       "      <td>83186</td>\n",
       "      <td>83162</td>\n",
       "      <td>4</td>\n",
       "      <td>Dorito Corn Chp     Supreme 380g</td>\n",
       "      <td>2</td>\n",
       "      <td>6.5</td>\n",
       "      <td>380.0</td>\n",
       "      <td>Dorito Corn Chp     Supreme</td>\n",
       "    </tr>\n",
       "  </tbody>\n",
       "</table>\n",
       "</div>"
      ],
      "text/plain": [
       "     DATE  STORE_NBR  LYLTY_CARD_NBR  TXN_ID  PROD_NBR  \\\n",
       "65  43605         83           83008   82099        63   \n",
       "66  43599         83           83062   82438        25   \n",
       "67  43328         83           83186   83162         4   \n",
       "\n",
       "                           PROD_NAME  PROD_QTY  TOT_SALES  PACK_SIZE  \\\n",
       "65      Kettle 135g Swt Pot Sea Salt         2        8.4        NaN   \n",
       "66    Pringles SourCream  Onion 134g         2        7.4      134.0   \n",
       "67  Dorito Corn Chp     Supreme 380g         2        6.5      380.0   \n",
       "\n",
       "                        BRD_NAME  \n",
       "65      Kettle 135g Swt Pot Sea   \n",
       "66    Pringles SourCream  Onion   \n",
       "67  Dorito Corn Chp     Supreme   "
      ]
     },
     "execution_count": 22,
     "metadata": {},
     "output_type": "execute_result"
    }
   ],
   "source": [
    "# 'sal' converted to NAN\n",
    "mod_df[65:68]"
   ]
  },
  {
   "cell_type": "markdown",
   "id": "64e02157",
   "metadata": {},
   "source": [
    "As we can see above that for 65th record PROD_NAME is having pack size in between the name. We need to handle that as well\n",
    "\n"
   ]
  },
  {
   "cell_type": "code",
   "execution_count": 25,
   "id": "a75a669d",
   "metadata": {},
   "outputs": [],
   "source": [
    "mod_df.loc[65,['PROD_NAME']] = 'Kettle Swt Pot Sea Salt'\n",
    "mod_df.loc[65,['BRD_NAME']] = 'Kettle Swt Pot Sea Salt'\n",
    "mod_df.loc[65,['PACK_SIZE']] = 135"
   ]
  },
  {
   "cell_type": "code",
   "execution_count": 26,
   "id": "5f55a476",
   "metadata": {},
   "outputs": [
    {
     "data": {
      "text/plain": [
       "DATE                                43605\n",
       "STORE_NBR                              83\n",
       "LYLTY_CARD_NBR                      83008\n",
       "TXN_ID                              82099\n",
       "PROD_NBR                               63\n",
       "PROD_NAME         Kettle Swt Pot Sea Salt\n",
       "PROD_QTY                                2\n",
       "TOT_SALES                             8.4\n",
       "PACK_SIZE                           135.0\n",
       "BRD_NAME          Kettle Swt Pot Sea Salt\n",
       "Name: 65, dtype: object"
      ]
     },
     "execution_count": 26,
     "metadata": {},
     "output_type": "execute_result"
    }
   ],
   "source": [
    "mod_df.loc[65] "
   ]
  },
  {
   "cell_type": "code",
   "execution_count": 27,
   "id": "8753f410",
   "metadata": {},
   "outputs": [
    {
     "data": {
      "text/plain": [
       "3256"
      ]
     },
     "execution_count": 27,
     "metadata": {},
     "output_type": "execute_result"
    }
   ],
   "source": [
    "mod_df['PACK_SIZE'].isnull().sum()"
   ]
  },
  {
   "cell_type": "code",
   "execution_count": 28,
   "id": "4486c49e",
   "metadata": {},
   "outputs": [
    {
     "name": "stdout",
     "output_type": "stream",
     "text": [
      "<class 'pandas.core.frame.DataFrame'>\n",
      "RangeIndex: 264836 entries, 0 to 264835\n",
      "Data columns (total 10 columns):\n",
      " #   Column          Non-Null Count   Dtype  \n",
      "---  ------          --------------   -----  \n",
      " 0   DATE            264836 non-null  int64  \n",
      " 1   STORE_NBR       264836 non-null  int64  \n",
      " 2   LYLTY_CARD_NBR  264836 non-null  int64  \n",
      " 3   TXN_ID          264836 non-null  int64  \n",
      " 4   PROD_NBR        264836 non-null  int64  \n",
      " 5   PROD_NAME       264836 non-null  object \n",
      " 6   PROD_QTY        264836 non-null  int64  \n",
      " 7   TOT_SALES       264836 non-null  float64\n",
      " 8   PACK_SIZE       261580 non-null  float64\n",
      " 9   BRD_NAME        264836 non-null  object \n",
      "dtypes: float64(2), int64(6), object(2)\n",
      "memory usage: 20.2+ MB\n"
     ]
    }
   ],
   "source": [
    "mod_df.info()"
   ]
  },
  {
   "cell_type": "markdown",
   "id": "3f53f476",
   "metadata": {},
   "source": [
    "## Dealing with outliers"
   ]
  },
  {
   "cell_type": "markdown",
   "id": "c5c33990",
   "metadata": {},
   "source": [
    "### 1. Pack Size"
   ]
  },
  {
   "cell_type": "code",
   "execution_count": 39,
   "id": "2db480bb",
   "metadata": {},
   "outputs": [
    {
     "data": {
      "text/plain": [
       "count    261580.000000\n",
       "mean        183.017348\n",
       "std          64.506967\n",
       "min          70.000000\n",
       "25%         150.000000\n",
       "50%         170.000000\n",
       "75%         175.000000\n",
       "max         380.000000\n",
       "Name: PACK_SIZE, dtype: float64"
      ]
     },
     "execution_count": 39,
     "metadata": {},
     "output_type": "execute_result"
    }
   ],
   "source": [
    "mod_df['PACK_SIZE'].describe()"
   ]
  },
  {
   "cell_type": "code",
   "execution_count": 33,
   "id": "2e6a1d3a",
   "metadata": {},
   "outputs": [
    {
     "data": {
      "text/plain": [
       "<AxesSubplot:>"
      ]
     },
     "execution_count": 33,
     "metadata": {},
     "output_type": "execute_result"
    },
    {
     "data": {
      "image/png": "[encoded data removed]",
      "text/plain": [
       "<Figure size 432x288 with 1 Axes>"
      ]
     },
     "metadata": {
      "needs_background": "light"
     },
     "output_type": "display_data"
    }
   ],
   "source": [
    "mod_df.boxplot(column = 'PACK_SIZE')"
   ]
  },
  {
   "cell_type": "code",
   "execution_count": 38,
   "id": "9c0dc275",
   "metadata": {},
   "outputs": [
    {
     "name": "stderr",
     "output_type": "stream",
     "text": [
      "d:\\styles\\programming\\jupyter\\jupyter\\lib\\site-packages\\seaborn\\distributions.py:2619: FutureWarning: `distplot` is a deprecated function and will be removed in a future version. Please adapt your code to use either `displot` (a figure-level function with similar flexibility) or `histplot` (an axes-level function for histograms).\n",
      "  warnings.warn(msg, FutureWarning)\n"
     ]
    },
    {
     "data": {
      "text/plain": [
       "<AxesSubplot:xlabel='PACK_SIZE', ylabel='Density'>"
      ]
     },
     "execution_count": 38,
     "metadata": {},
     "output_type": "execute_result"
    },
    {
     "data": {
      "image/png": "[encoded data removed]",
      "text/plain": [
       "<Figure size 432x288 with 1 Axes>"
      ]
     },
     "metadata": {
      "needs_background": "light"
     },
     "output_type": "display_data"
    }
   ],
   "source": [
    "sns.distplot(mod_df['PACK_SIZE'] ,kde=True, bins=40)"
   ]
  },
  {
   "cell_type": "markdown",
   "id": "ea6c2b3c",
   "metadata": {},
   "source": [
    "Handeling outliers using 3rd std deviation method. Any value >= 3*std of the distribution will be considered as an outlier"
   ]
  },
  {
   "cell_type": "code",
   "execution_count": 40,
   "id": "cc723d62",
   "metadata": {},
   "outputs": [
    {
     "data": {
      "text/plain": [
       "Text(0, 0.5, 'No. of packets')"
      ]
     },
     "execution_count": 40,
     "metadata": {},
     "output_type": "execute_result"
    },
    {
     "data": {
      "image/png": "[encoded data removed]",
      "text/plain": [
       "<Figure size 432x288 with 1 Axes>"
      ]
     },
     "metadata": {
      "needs_background": "light"
     },
     "output_type": "display_data"
    }
   ],
   "source": [
    "fig = mod_df.PACK_SIZE.hist(bins=40)\n",
    "fig.set_title('Pack Size')\n",
    "fig.set_xlabel('Size of each packet')\n",
    "fig.set_ylabel('No. of packets')"
   ]
  },
  {
   "cell_type": "markdown",
   "id": "ba898419",
   "metadata": {},
   "source": [
    "Somewhat Gaussian destribution"
   ]
  },
  {
   "cell_type": "code",
   "execution_count": 42,
   "id": "210d333b",
   "metadata": {},
   "outputs": [
    {
     "name": "stdout",
     "output_type": "stream",
     "text": [
      "183.0173484211331\n",
      "376.5382508017631\n",
      "-10.503553959496912\n"
     ]
    }
   ],
   "source": [
    "# Assuming Age follows A Gaussian Distribution we will calculate the boundaries which differentiates the outliers\n",
    "\n",
    "upper_boundary = mod_df['PACK_SIZE'].mean() + 3*mod_df['PACK_SIZE'].std()\n",
    "lower_boundary = mod_df['PACK_SIZE'].mean() - 3*mod_df['PACK_SIZE'].std()\n",
    "print(mod_df['PACK_SIZE'].mean())\n",
    "print(upper_boundary)\n",
    "print(lower_boundary)"
   ]
  },
  {
   "cell_type": "markdown",
   "id": "aa14c4c1",
   "metadata": {},
   "source": [
    "As packet size cannot be negative we will ignore the lower boundary. And we'll consider every data point >=376g as an outliar"
   ]
  },
  {
   "cell_type": "code",
   "execution_count": 43,
   "id": "1cd6bfc2",
   "metadata": {},
   "outputs": [],
   "source": [
    "mod_df.loc[mod_df['PACK_SIZE']>=376,'PACK_SIZE']=376"
   ]
  },
  {
   "cell_type": "code",
   "execution_count": 44,
   "id": "bce0f6e5",
   "metadata": {},
   "outputs": [
    {
     "data": {
      "text/plain": [
       "376.0"
      ]
     },
     "execution_count": 44,
     "metadata": {},
     "output_type": "execute_result"
    }
   ],
   "source": [
    "mod_df['PACK_SIZE'].max()"
   ]
  },
  {
   "cell_type": "code",
   "execution_count": 46,
   "id": "c2504e70",
   "metadata": {},
   "outputs": [
    {
     "data": {
      "text/plain": [
       "Text(0, 0.5, 'No. of packets')"
      ]
     },
     "execution_count": 46,
     "metadata": {},
     "output_type": "execute_result"
    },
    {
     "data": {
      "image/png": "[encoded data removed]",
      "text/plain": [
       "<Figure size 432x288 with 1 Axes>"
      ]
     },
     "metadata": {
      "needs_background": "light"
     },
     "output_type": "display_data"
    }
   ],
   "source": [
    "fig = mod_df.PACK_SIZE.hist(bins=50)\n",
    "fig.set_title('Pack Size')\n",
    "fig.set_xlabel('Size of each packet')\n",
    "fig.set_ylabel('No. of packets')"
   ]
  },
  {
   "cell_type": "code",
   "execution_count": 48,
   "id": "b90dcc87",
   "metadata": {},
   "outputs": [
    {
     "name": "stderr",
     "output_type": "stream",
     "text": [
      "d:\\styles\\programming\\jupyter\\jupyter\\lib\\site-packages\\seaborn\\distributions.py:2619: FutureWarning: `distplot` is a deprecated function and will be removed in a future version. Please adapt your code to use either `displot` (a figure-level function with similar flexibility) or `histplot` (an axes-level function for histograms).\n",
      "  warnings.warn(msg, FutureWarning)\n"
     ]
    },
    {
     "data": {
      "text/plain": [
       "<AxesSubplot:xlabel='PACK_SIZE', ylabel='Density'>"
      ]
     },
     "execution_count": 48,
     "metadata": {},
     "output_type": "execute_result"
    },
    {
     "data": {
      "image/png": "[encoded data removed]",
      "text/plain": [
       "<Figure size 432x288 with 1 Axes>"
      ]
     },
     "metadata": {
      "needs_background": "light"
     },
     "output_type": "display_data"
    }
   ],
   "source": [
    "sns.distplot(mod_df['PACK_SIZE'] ,kde=True, bins=40)"
   ]
  },
  {
   "cell_type": "markdown",
   "id": "95db349d",
   "metadata": {},
   "source": [
    "### 2. Product Quantity"
   ]
  },
  {
   "cell_type": "code",
   "execution_count": 50,
   "id": "27974654",
   "metadata": {},
   "outputs": [
    {
     "data": {
      "text/plain": [
       "count    264836.000000\n",
       "mean          1.907309\n",
       "std           0.643654\n",
       "min           1.000000\n",
       "25%           2.000000\n",
       "50%           2.000000\n",
       "75%           2.000000\n",
       "max         200.000000\n",
       "Name: PROD_QTY, dtype: float64"
      ]
     },
     "execution_count": 50,
     "metadata": {},
     "output_type": "execute_result"
    }
   ],
   "source": [
    "mod_df['PROD_QTY'].describe()"
   ]
  },
  {
   "cell_type": "code",
   "execution_count": 51,
   "id": "c9bdc0a5",
   "metadata": {},
   "outputs": [
    {
     "data": {
      "text/plain": [
       "array([  2,   3,   5,   1,   4, 200], dtype=int64)"
      ]
     },
     "execution_count": 51,
     "metadata": {},
     "output_type": "execute_result"
    }
   ],
   "source": [
    "mod_df['PROD_QTY'].unique()"
   ]
  },
  {
   "cell_type": "code",
   "execution_count": 52,
   "id": "5cd04cce",
   "metadata": {},
   "outputs": [
    {
     "data": {
      "text/plain": [
       "2.0"
      ]
     },
     "execution_count": 52,
     "metadata": {},
     "output_type": "execute_result"
    }
   ],
   "source": [
    "mod_df['PROD_QTY'].median()"
   ]
  },
  {
   "cell_type": "markdown",
   "id": "25ec0bdc",
   "metadata": {},
   "source": [
    "As we can see that there is only one outlier. We can replace it with the median of the destribution."
   ]
  },
  {
   "cell_type": "code",
   "execution_count": 74,
   "id": "d6032287",
   "metadata": {},
   "outputs": [
    {
     "data": {
      "text/plain": [
       "5"
      ]
     },
     "execution_count": 74,
     "metadata": {},
     "output_type": "execute_result"
    }
   ],
   "source": [
    "mod_df.loc[mod_df['PROD_QTY']>5, 'PROD_QTY']=2\n",
    "mod_df['PROD_QTY'].max()"
   ]
  },
  {
   "cell_type": "markdown",
   "id": "03bb363b",
   "metadata": {},
   "source": [
    "### 3. Total Sales"
   ]
  },
  {
   "cell_type": "code",
   "execution_count": 60,
   "id": "7bb753bc",
   "metadata": {},
   "outputs": [
    {
     "data": {
      "text/plain": [
       "Text(0, 0.5, 'No. of purchases using same amount')"
      ]
     },
     "execution_count": 60,
     "metadata": {},
     "output_type": "execute_result"
    },
    {
     "data": {
      "image/png": "[encoded data removed]",
      "text/plain": [
       "<Figure size 432x288 with 1 Axes>"
      ]
     },
     "metadata": {
      "needs_background": "light"
     },
     "output_type": "display_data"
    }
   ],
   "source": [
    "fig2=mod_df.TOT_SALES.hist(bins=10)\n",
    "fig2.set_title('Total Sales')\n",
    "fig2.set_xlabel('Amount')\n",
    "fig2.set_ylabel('No. of purchases using same amount')"
   ]
  },
  {
   "cell_type": "code",
   "execution_count": 61,
   "id": "6c3a7c65",
   "metadata": {},
   "outputs": [
    {
     "name": "stderr",
     "output_type": "stream",
     "text": [
      "d:\\styles\\programming\\jupyter\\jupyter\\lib\\site-packages\\seaborn\\distributions.py:2619: FutureWarning: `distplot` is a deprecated function and will be removed in a future version. Please adapt your code to use either `displot` (a figure-level function with similar flexibility) or `histplot` (an axes-level function for histograms).\n",
      "  warnings.warn(msg, FutureWarning)\n"
     ]
    },
    {
     "data": {
      "text/plain": [
       "<AxesSubplot:xlabel='TOT_SALES', ylabel='Density'>"
      ]
     },
     "execution_count": 61,
     "metadata": {},
     "output_type": "execute_result"
    },
    {
     "data": {
      "image/png": "[encoded data removed]",
      "text/plain": [
       "<Figure size 432x288 with 1 Axes>"
      ]
     },
     "metadata": {
      "needs_background": "light"
     },
     "output_type": "display_data"
    }
   ],
   "source": [
    "sns.distplot(mod_df['TOT_SALES'], kde=True, bins=10)"
   ]
  },
  {
   "cell_type": "code",
   "execution_count": 62,
   "id": "601f8340",
   "metadata": {},
   "outputs": [
    {
     "data": {
      "text/plain": [
       "count    264836.000000\n",
       "mean          7.304200\n",
       "std           3.083226\n",
       "min           1.500000\n",
       "25%           5.400000\n",
       "50%           7.400000\n",
       "75%           9.200000\n",
       "max         650.000000\n",
       "Name: TOT_SALES, dtype: float64"
      ]
     },
     "execution_count": 62,
     "metadata": {},
     "output_type": "execute_result"
    }
   ],
   "source": [
    "mod_df['TOT_SALES'].describe()"
   ]
  },
  {
   "cell_type": "markdown",
   "id": "54a4f111",
   "metadata": {},
   "source": [
    "We can see a huge difference between the 75% value and the max value. Possibility of an outlier."
   ]
  },
  {
   "cell_type": "code",
   "execution_count": 63,
   "id": "86b6a342",
   "metadata": {},
   "outputs": [
    {
     "data": {
      "text/plain": [
       "<AxesSubplot:>"
      ]
     },
     "execution_count": 63,
     "metadata": {},
     "output_type": "execute_result"
    },
    {
     "data": {
      "image/png": "[encoded data removed]",
      "text/plain": [
       "<Figure size 432x288 with 1 Axes>"
      ]
     },
     "metadata": {
      "needs_background": "light"
     },
     "output_type": "display_data"
    }
   ],
   "source": [
    "mod_df.boxplot(column='TOT_SALES')"
   ]
  },
  {
   "cell_type": "markdown",
   "id": "0cc40234",
   "metadata": {},
   "source": [
    "As destribution for total sales is somewhat right skewed. We can use IQR method to find the outliers. "
   ]
  },
  {
   "cell_type": "code",
   "execution_count": 64,
   "id": "46f2377e",
   "metadata": {},
   "outputs": [
    {
     "data": {
      "text/plain": [
       "3.799999999999999"
      ]
     },
     "execution_count": 64,
     "metadata": {},
     "output_type": "execute_result"
    }
   ],
   "source": [
    "# Lets compute the Interquantile range to calculate the boundaries\n",
    "IQR = mod_df.TOT_SALES.quantile(0.75) - mod_df.TOT_SALES.quantile(0.25)\n",
    "IQR"
   ]
  },
  {
   "cell_type": "code",
   "execution_count": 65,
   "id": "3f9d22d9",
   "metadata": {},
   "outputs": [
    {
     "name": "stdout",
     "output_type": "stream",
     "text": [
      "3.500000000000001\n",
      "14.899999999999999\n",
      "3.799999999999999\n"
     ]
    }
   ],
   "source": [
    "lower_bridge = mod_df.TOT_SALES.quantile(0.75)-(1.5*IQR)\n",
    "higher_bridge = mod_df.TOT_SALES.quantile(0.75)+(1.5*IQR)\n",
    "print(lower_bridge)\n",
    "print(higher_bridge)\n",
    "print(IQR)"
   ]
  },
  {
   "cell_type": "code",
   "execution_count": 66,
   "id": "090f3b35",
   "metadata": {},
   "outputs": [
    {
     "name": "stdout",
     "output_type": "stream",
     "text": [
      "-2.1999999999999975\n",
      "20.599999999999994\n",
      "3.799999999999999\n"
     ]
    }
   ],
   "source": [
    "# extreme outliers\n",
    "lower_bridge = mod_df.TOT_SALES.quantile(0.75)-(3*IQR)\n",
    "higher_bridge = mod_df.TOT_SALES.quantile(0.75)+(3*IQR)\n",
    "print(lower_bridge)\n",
    "print(higher_bridge)\n",
    "print(IQR)"
   ]
  },
  {
   "cell_type": "markdown",
   "id": "f3a0daf4",
   "metadata": {},
   "source": [
    "Considering extreme outliers and neglecting the negative lower bridge value as sales can not be negative"
   ]
  },
  {
   "cell_type": "code",
   "execution_count": 69,
   "id": "1c48c16a",
   "metadata": {},
   "outputs": [
    {
     "data": {
      "text/plain": [
       "20.0"
      ]
     },
     "execution_count": 69,
     "metadata": {},
     "output_type": "execute_result"
    }
   ],
   "source": [
    "# Handling outliers\n",
    "\n",
    "mod_df.loc[mod_df['TOT_SALES']>20]=20\n",
    "mod_df['TOT_SALES'].max()"
   ]
  },
  {
   "cell_type": "code",
   "execution_count": 70,
   "id": "127344e4",
   "metadata": {},
   "outputs": [
    {
     "data": {
      "text/plain": [
       "<AxesSubplot:>"
      ]
     },
     "execution_count": 70,
     "metadata": {},
     "output_type": "execute_result"
    },
    {
     "data": {
      "image/png": "[encoded data removed]",
      "text/plain": [
       "<Figure size 432x288 with 1 Axes>"
      ]
     },
     "metadata": {
      "needs_background": "light"
     },
     "output_type": "display_data"
    }
   ],
   "source": [
    "mod_df.boxplot(column='TOT_SALES')"
   ]
  },
  {
   "cell_type": "code",
   "execution_count": 76,
   "id": "ae6b4610",
   "metadata": {},
   "outputs": [
    {
     "data": {
      "text/plain": [
       "<AxesSubplot:>"
      ]
     },
     "execution_count": 76,
     "metadata": {},
     "output_type": "execute_result"
    },
    {
     "data": {
      "image/png": "[encoded data removed]",
      "text/plain": [
       "<Figure size 432x288 with 1 Axes>"
      ]
     },
     "metadata": {
      "needs_background": "light"
     },
     "output_type": "display_data"
    }
   ],
   "source": [
    "mod_df.boxplot(column='PROD_QTY')"
   ]
  },
  {
   "cell_type": "markdown",
   "id": "1b8f2a7b",
   "metadata": {},
   "source": [
    "## Dealing with NULL Values"
   ]
  },
  {
   "cell_type": "code",
   "execution_count": 77,
   "id": "71d21a50",
   "metadata": {},
   "outputs": [
    {
     "data": {
      "text/plain": [
       "<AxesSubplot:>"
      ]
     },
     "execution_count": 77,
     "metadata": {},
     "output_type": "execute_result"
    },
    {
     "data": {
      "image/png": "[encoded data removed]",
      "text/plain": [
       "<Figure size 432x288 with 1 Axes>"
      ]
     },
     "metadata": {
      "needs_background": "light"
     },
     "output_type": "display_data"
    }
   ],
   "source": [
    "sns.heatmap(mod_df.isnull(), yticklabels=False, cbar=False, cmap='viridis')"
   ]
  },
  {
   "cell_type": "markdown",
   "id": "3deebc73",
   "metadata": {},
   "source": [
    "As We can see that we only have null values in PACK_SIZE column of our dataset"
   ]
  },
  {
   "cell_type": "code",
   "execution_count": 78,
   "id": "59f5b2f0",
   "metadata": {},
   "outputs": [
    {
     "data": {
      "text/plain": [
       "count    261584.000000\n",
       "mean        182.734984\n",
       "std          64.333778\n",
       "min          20.000000\n",
       "25%         150.000000\n",
       "50%         170.000000\n",
       "75%         175.000000\n",
       "max         376.000000\n",
       "Name: PACK_SIZE, dtype: float64"
      ]
     },
     "execution_count": 78,
     "metadata": {},
     "output_type": "execute_result"
    }
   ],
   "source": [
    "mod_df['PACK_SIZE'].describe()"
   ]
  },
  {
   "cell_type": "code",
   "execution_count": 86,
   "id": "42e6c49f",
   "metadata": {},
   "outputs": [],
   "source": [
    "mod_df['PACK_SIZE'] = mod_df['PACK_SIZE'].fillna(170)"
   ]
  },
  {
   "cell_type": "code",
   "execution_count": 87,
   "id": "04755148",
   "metadata": {},
   "outputs": [
    {
     "data": {
      "text/plain": [
       "0"
      ]
     },
     "execution_count": 87,
     "metadata": {},
     "output_type": "execute_result"
    }
   ],
   "source": [
    "mod_df['PACK_SIZE'].isnull().sum()"
   ]
  },
  {
   "cell_type": "code",
   "execution_count": 88,
   "id": "96e7c5ea",
   "metadata": {},
   "outputs": [
    {
     "data": {
      "text/plain": [
       "<AxesSubplot:>"
      ]
     },
     "execution_count": 88,
     "metadata": {},
     "output_type": "execute_result"
    },
    {
     "data": {
      "image/png": "[encoded data removed]",
      "text/plain": [
       "<Figure size 432x288 with 1 Axes>"
      ]
     },
     "metadata": {
      "needs_background": "light"
     },
     "output_type": "display_data"
    }
   ],
   "source": [
    "sns.heatmap(mod_df.isnull(), yticklabels=False, cbar=False, cmap='viridis')"
   ]
  },
  {
   "cell_type": "markdown",
   "id": "b4a5b990",
   "metadata": {},
   "source": [
    "Now we can see that there are no null values in our dataset"
   ]
  },
  {
   "cell_type": "markdown",
   "id": "ec47bc90",
   "metadata": {},
   "source": [
    "## Overview of the dataset after some data pre-processing and feature engineering"
   ]
  },
  {
   "cell_type": "code",
   "execution_count": 89,
   "id": "feb497ed",
   "metadata": {},
   "outputs": [
    {
     "data": {
      "text/html": [
       "<div>\n",
       "<style scoped>\n",
       "    .dataframe tbody tr th:only-of-type {\n",
       "        vertical-align: middle;\n",
       "    }\n",
       "\n",
       "    .dataframe tbody tr th {\n",
       "        vertical-align: top;\n",
       "    }\n",
       "\n",
       "    .dataframe thead th {\n",
       "        text-align: right;\n",
       "    }\n",
       "</style>\n",
       "<table border=\"1\" class=\"dataframe\">\n",
       "  <thead>\n",
       "    <tr style=\"text-align: right;\">\n",
       "      <th></th>\n",
       "      <th>DATE</th>\n",
       "      <th>STORE_NBR</th>\n",
       "      <th>LYLTY_CARD_NBR</th>\n",
       "      <th>TXN_ID</th>\n",
       "      <th>PROD_NBR</th>\n",
       "      <th>PROD_NAME</th>\n",
       "      <th>PROD_QTY</th>\n",
       "      <th>TOT_SALES</th>\n",
       "      <th>PACK_SIZE</th>\n",
       "      <th>BRD_NAME</th>\n",
       "    </tr>\n",
       "  </thead>\n",
       "  <tbody>\n",
       "    <tr>\n",
       "      <th>0</th>\n",
       "      <td>43390</td>\n",
       "      <td>1</td>\n",
       "      <td>1000</td>\n",
       "      <td>1</td>\n",
       "      <td>5</td>\n",
       "      <td>Natural Chip        Compny SeaSalt175g</td>\n",
       "      <td>2</td>\n",
       "      <td>6.0</td>\n",
       "      <td>175.0</td>\n",
       "      <td>Natural Chip        Compny SeaSalt</td>\n",
       "    </tr>\n",
       "    <tr>\n",
       "      <th>1</th>\n",
       "      <td>43599</td>\n",
       "      <td>1</td>\n",
       "      <td>1307</td>\n",
       "      <td>348</td>\n",
       "      <td>66</td>\n",
       "      <td>CCs Nacho Cheese    175g</td>\n",
       "      <td>3</td>\n",
       "      <td>6.3</td>\n",
       "      <td>175.0</td>\n",
       "      <td>CCs Nacho Cheese</td>\n",
       "    </tr>\n",
       "    <tr>\n",
       "      <th>2</th>\n",
       "      <td>43605</td>\n",
       "      <td>1</td>\n",
       "      <td>1343</td>\n",
       "      <td>383</td>\n",
       "      <td>61</td>\n",
       "      <td>Smiths Crinkle Cut  Chips Chicken 170g</td>\n",
       "      <td>2</td>\n",
       "      <td>2.9</td>\n",
       "      <td>170.0</td>\n",
       "      <td>Smiths Crinkle Cut  Chips Chicken</td>\n",
       "    </tr>\n",
       "    <tr>\n",
       "      <th>3</th>\n",
       "      <td>43329</td>\n",
       "      <td>2</td>\n",
       "      <td>2373</td>\n",
       "      <td>974</td>\n",
       "      <td>69</td>\n",
       "      <td>Smiths Chip Thinly  S/Cream&amp;Onion 175g</td>\n",
       "      <td>5</td>\n",
       "      <td>15.0</td>\n",
       "      <td>175.0</td>\n",
       "      <td>Smiths Chip Thinly  S/Cream&amp;Onion</td>\n",
       "    </tr>\n",
       "    <tr>\n",
       "      <th>4</th>\n",
       "      <td>43330</td>\n",
       "      <td>2</td>\n",
       "      <td>2426</td>\n",
       "      <td>1038</td>\n",
       "      <td>108</td>\n",
       "      <td>Kettle Tortilla ChpsHny&amp;Jlpno Chili 150g</td>\n",
       "      <td>3</td>\n",
       "      <td>13.8</td>\n",
       "      <td>150.0</td>\n",
       "      <td>Kettle Tortilla ChpsHny&amp;Jlpno Chili</td>\n",
       "    </tr>\n",
       "    <tr>\n",
       "      <th>5</th>\n",
       "      <td>43604</td>\n",
       "      <td>4</td>\n",
       "      <td>4074</td>\n",
       "      <td>2982</td>\n",
       "      <td>57</td>\n",
       "      <td>Old El Paso Salsa   Dip Tomato Mild 300g</td>\n",
       "      <td>1</td>\n",
       "      <td>5.1</td>\n",
       "      <td>300.0</td>\n",
       "      <td>Old El Paso Salsa   Dip Tomato Mild</td>\n",
       "    </tr>\n",
       "    <tr>\n",
       "      <th>6</th>\n",
       "      <td>43601</td>\n",
       "      <td>4</td>\n",
       "      <td>4149</td>\n",
       "      <td>3333</td>\n",
       "      <td>16</td>\n",
       "      <td>Smiths Crinkle Chips Salt &amp; Vinegar 330g</td>\n",
       "      <td>1</td>\n",
       "      <td>5.7</td>\n",
       "      <td>330.0</td>\n",
       "      <td>Smiths Crinkle Chips Salt &amp; Vinegar</td>\n",
       "    </tr>\n",
       "    <tr>\n",
       "      <th>7</th>\n",
       "      <td>43601</td>\n",
       "      <td>4</td>\n",
       "      <td>4196</td>\n",
       "      <td>3539</td>\n",
       "      <td>24</td>\n",
       "      <td>Grain Waves         Sweet Chilli 210g</td>\n",
       "      <td>1</td>\n",
       "      <td>3.6</td>\n",
       "      <td>210.0</td>\n",
       "      <td>Grain Waves         Sweet Chilli</td>\n",
       "    </tr>\n",
       "    <tr>\n",
       "      <th>8</th>\n",
       "      <td>43332</td>\n",
       "      <td>5</td>\n",
       "      <td>5026</td>\n",
       "      <td>4525</td>\n",
       "      <td>42</td>\n",
       "      <td>Doritos Corn Chip Mexican Jalapeno 150g</td>\n",
       "      <td>1</td>\n",
       "      <td>3.9</td>\n",
       "      <td>150.0</td>\n",
       "      <td>Doritos Corn Chip Mexican Jalapeno</td>\n",
       "    </tr>\n",
       "    <tr>\n",
       "      <th>9</th>\n",
       "      <td>43330</td>\n",
       "      <td>7</td>\n",
       "      <td>7150</td>\n",
       "      <td>6900</td>\n",
       "      <td>52</td>\n",
       "      <td>Grain Waves Sour    Cream&amp;Chives 210G</td>\n",
       "      <td>2</td>\n",
       "      <td>7.2</td>\n",
       "      <td>210.0</td>\n",
       "      <td>Grain Waves Sour    Cream&amp;Chives</td>\n",
       "    </tr>\n",
       "  </tbody>\n",
       "</table>\n",
       "</div>"
      ],
      "text/plain": [
       "    DATE  STORE_NBR  LYLTY_CARD_NBR  TXN_ID  PROD_NBR  \\\n",
       "0  43390          1            1000       1         5   \n",
       "1  43599          1            1307     348        66   \n",
       "2  43605          1            1343     383        61   \n",
       "3  43329          2            2373     974        69   \n",
       "4  43330          2            2426    1038       108   \n",
       "5  43604          4            4074    2982        57   \n",
       "6  43601          4            4149    3333        16   \n",
       "7  43601          4            4196    3539        24   \n",
       "8  43332          5            5026    4525        42   \n",
       "9  43330          7            7150    6900        52   \n",
       "\n",
       "                                  PROD_NAME  PROD_QTY  TOT_SALES  PACK_SIZE  \\\n",
       "0    Natural Chip        Compny SeaSalt175g         2        6.0      175.0   \n",
       "1                  CCs Nacho Cheese    175g         3        6.3      175.0   \n",
       "2    Smiths Crinkle Cut  Chips Chicken 170g         2        2.9      170.0   \n",
       "3    Smiths Chip Thinly  S/Cream&Onion 175g         5       15.0      175.0   \n",
       "4  Kettle Tortilla ChpsHny&Jlpno Chili 150g         3       13.8      150.0   \n",
       "5  Old El Paso Salsa   Dip Tomato Mild 300g         1        5.1      300.0   \n",
       "6  Smiths Crinkle Chips Salt & Vinegar 330g         1        5.7      330.0   \n",
       "7     Grain Waves         Sweet Chilli 210g         1        3.6      210.0   \n",
       "8   Doritos Corn Chip Mexican Jalapeno 150g         1        3.9      150.0   \n",
       "9     Grain Waves Sour    Cream&Chives 210G         2        7.2      210.0   \n",
       "\n",
       "                               BRD_NAME  \n",
       "0    Natural Chip        Compny SeaSalt  \n",
       "1                  CCs Nacho Cheese      \n",
       "2    Smiths Crinkle Cut  Chips Chicken   \n",
       "3    Smiths Chip Thinly  S/Cream&Onion   \n",
       "4  Kettle Tortilla ChpsHny&Jlpno Chili   \n",
       "5  Old El Paso Salsa   Dip Tomato Mild   \n",
       "6  Smiths Crinkle Chips Salt & Vinegar   \n",
       "7     Grain Waves         Sweet Chilli   \n",
       "8   Doritos Corn Chip Mexican Jalapeno   \n",
       "9     Grain Waves Sour    Cream&Chives   "
      ]
     },
     "execution_count": 89,
     "metadata": {},
     "output_type": "execute_result"
    }
   ],
   "source": [
    "mod_df.head(10)"
   ]
  },
  {
   "cell_type": "code",
   "execution_count": 90,
   "id": "4a7cd91c",
   "metadata": {},
   "outputs": [
    {
     "data": {
      "text/html": [
       "<div>\n",
       "<style scoped>\n",
       "    .dataframe tbody tr th:only-of-type {\n",
       "        vertical-align: middle;\n",
       "    }\n",
       "\n",
       "    .dataframe tbody tr th {\n",
       "        vertical-align: top;\n",
       "    }\n",
       "\n",
       "    .dataframe thead th {\n",
       "        text-align: right;\n",
       "    }\n",
       "</style>\n",
       "<table border=\"1\" class=\"dataframe\">\n",
       "  <thead>\n",
       "    <tr style=\"text-align: right;\">\n",
       "      <th></th>\n",
       "      <th>DATE</th>\n",
       "      <th>STORE_NBR</th>\n",
       "      <th>LYLTY_CARD_NBR</th>\n",
       "      <th>TXN_ID</th>\n",
       "      <th>PROD_NBR</th>\n",
       "      <th>PROD_NAME</th>\n",
       "      <th>PROD_QTY</th>\n",
       "      <th>TOT_SALES</th>\n",
       "      <th>PACK_SIZE</th>\n",
       "      <th>BRD_NAME</th>\n",
       "    </tr>\n",
       "  </thead>\n",
       "  <tbody>\n",
       "    <tr>\n",
       "      <th>264826</th>\n",
       "      <td>43549</td>\n",
       "      <td>272</td>\n",
       "      <td>272194</td>\n",
       "      <td>269908</td>\n",
       "      <td>75</td>\n",
       "      <td>Cobs Popd Sea Salt  Chips 110g</td>\n",
       "      <td>2</td>\n",
       "      <td>7.6</td>\n",
       "      <td>110.0</td>\n",
       "      <td>Cobs Popd Sea Salt  Chips</td>\n",
       "    </tr>\n",
       "    <tr>\n",
       "      <th>264827</th>\n",
       "      <td>43340</td>\n",
       "      <td>272</td>\n",
       "      <td>272197</td>\n",
       "      <td>269911</td>\n",
       "      <td>104</td>\n",
       "      <td>Infuzions Thai SweetChili PotatoMix 110g</td>\n",
       "      <td>2</td>\n",
       "      <td>7.6</td>\n",
       "      <td>110.0</td>\n",
       "      <td>Infuzions Thai SweetChili PotatoMix</td>\n",
       "    </tr>\n",
       "    <tr>\n",
       "      <th>264828</th>\n",
       "      <td>43308</td>\n",
       "      <td>272</td>\n",
       "      <td>272236</td>\n",
       "      <td>269974</td>\n",
       "      <td>68</td>\n",
       "      <td>Pringles Chicken    Salt Crips 134g</td>\n",
       "      <td>2</td>\n",
       "      <td>7.4</td>\n",
       "      <td>134.0</td>\n",
       "      <td>Pringles Chicken    Salt Crips</td>\n",
       "    </tr>\n",
       "    <tr>\n",
       "      <th>264829</th>\n",
       "      <td>43540</td>\n",
       "      <td>272</td>\n",
       "      <td>272236</td>\n",
       "      <td>269976</td>\n",
       "      <td>49</td>\n",
       "      <td>Infuzions SourCream&amp;Herbs Veg Strws 110g</td>\n",
       "      <td>2</td>\n",
       "      <td>7.6</td>\n",
       "      <td>110.0</td>\n",
       "      <td>Infuzions SourCream&amp;Herbs Veg Strws</td>\n",
       "    </tr>\n",
       "    <tr>\n",
       "      <th>264830</th>\n",
       "      <td>43416</td>\n",
       "      <td>272</td>\n",
       "      <td>272319</td>\n",
       "      <td>270087</td>\n",
       "      <td>44</td>\n",
       "      <td>Thins Chips Light&amp;  Tangy 175g</td>\n",
       "      <td>2</td>\n",
       "      <td>6.6</td>\n",
       "      <td>175.0</td>\n",
       "      <td>Thins Chips Light&amp;  Tangy</td>\n",
       "    </tr>\n",
       "    <tr>\n",
       "      <th>264831</th>\n",
       "      <td>43533</td>\n",
       "      <td>272</td>\n",
       "      <td>272319</td>\n",
       "      <td>270088</td>\n",
       "      <td>89</td>\n",
       "      <td>Kettle Sweet Chilli And Sour Cream 175g</td>\n",
       "      <td>2</td>\n",
       "      <td>10.8</td>\n",
       "      <td>175.0</td>\n",
       "      <td>Kettle Sweet Chilli And Sour Cream</td>\n",
       "    </tr>\n",
       "    <tr>\n",
       "      <th>264832</th>\n",
       "      <td>43325</td>\n",
       "      <td>272</td>\n",
       "      <td>272358</td>\n",
       "      <td>270154</td>\n",
       "      <td>74</td>\n",
       "      <td>Tostitos Splash Of  Lime 175g</td>\n",
       "      <td>1</td>\n",
       "      <td>4.4</td>\n",
       "      <td>175.0</td>\n",
       "      <td>Tostitos Splash Of  Lime</td>\n",
       "    </tr>\n",
       "    <tr>\n",
       "      <th>264833</th>\n",
       "      <td>43410</td>\n",
       "      <td>272</td>\n",
       "      <td>272379</td>\n",
       "      <td>270187</td>\n",
       "      <td>51</td>\n",
       "      <td>Doritos Mexicana    170g</td>\n",
       "      <td>2</td>\n",
       "      <td>8.8</td>\n",
       "      <td>170.0</td>\n",
       "      <td>Doritos Mexicana</td>\n",
       "    </tr>\n",
       "    <tr>\n",
       "      <th>264834</th>\n",
       "      <td>43461</td>\n",
       "      <td>272</td>\n",
       "      <td>272379</td>\n",
       "      <td>270188</td>\n",
       "      <td>42</td>\n",
       "      <td>Doritos Corn Chip Mexican Jalapeno 150g</td>\n",
       "      <td>2</td>\n",
       "      <td>7.8</td>\n",
       "      <td>150.0</td>\n",
       "      <td>Doritos Corn Chip Mexican Jalapeno</td>\n",
       "    </tr>\n",
       "    <tr>\n",
       "      <th>264835</th>\n",
       "      <td>43365</td>\n",
       "      <td>272</td>\n",
       "      <td>272380</td>\n",
       "      <td>270189</td>\n",
       "      <td>74</td>\n",
       "      <td>Tostitos Splash Of  Lime 175g</td>\n",
       "      <td>2</td>\n",
       "      <td>8.8</td>\n",
       "      <td>175.0</td>\n",
       "      <td>Tostitos Splash Of  Lime</td>\n",
       "    </tr>\n",
       "  </tbody>\n",
       "</table>\n",
       "</div>"
      ],
      "text/plain": [
       "         DATE  STORE_NBR  LYLTY_CARD_NBR  TXN_ID  PROD_NBR  \\\n",
       "264826  43549        272          272194  269908        75   \n",
       "264827  43340        272          272197  269911       104   \n",
       "264828  43308        272          272236  269974        68   \n",
       "264829  43540        272          272236  269976        49   \n",
       "264830  43416        272          272319  270087        44   \n",
       "264831  43533        272          272319  270088        89   \n",
       "264832  43325        272          272358  270154        74   \n",
       "264833  43410        272          272379  270187        51   \n",
       "264834  43461        272          272379  270188        42   \n",
       "264835  43365        272          272380  270189        74   \n",
       "\n",
       "                                       PROD_NAME  PROD_QTY  TOT_SALES  \\\n",
       "264826            Cobs Popd Sea Salt  Chips 110g         2        7.6   \n",
       "264827  Infuzions Thai SweetChili PotatoMix 110g         2        7.6   \n",
       "264828       Pringles Chicken    Salt Crips 134g         2        7.4   \n",
       "264829  Infuzions SourCream&Herbs Veg Strws 110g         2        7.6   \n",
       "264830            Thins Chips Light&  Tangy 175g         2        6.6   \n",
       "264831   Kettle Sweet Chilli And Sour Cream 175g         2       10.8   \n",
       "264832             Tostitos Splash Of  Lime 175g         1        4.4   \n",
       "264833                  Doritos Mexicana    170g         2        8.8   \n",
       "264834   Doritos Corn Chip Mexican Jalapeno 150g         2        7.8   \n",
       "264835             Tostitos Splash Of  Lime 175g         2        8.8   \n",
       "\n",
       "        PACK_SIZE                              BRD_NAME  \n",
       "264826      110.0            Cobs Popd Sea Salt  Chips   \n",
       "264827      110.0  Infuzions Thai SweetChili PotatoMix   \n",
       "264828      134.0       Pringles Chicken    Salt Crips   \n",
       "264829      110.0  Infuzions SourCream&Herbs Veg Strws   \n",
       "264830      175.0            Thins Chips Light&  Tangy   \n",
       "264831      175.0   Kettle Sweet Chilli And Sour Cream   \n",
       "264832      175.0             Tostitos Splash Of  Lime   \n",
       "264833      170.0                  Doritos Mexicana      \n",
       "264834      150.0   Doritos Corn Chip Mexican Jalapeno   \n",
       "264835      175.0             Tostitos Splash Of  Lime   "
      ]
     },
     "execution_count": 90,
     "metadata": {},
     "output_type": "execute_result"
    }
   ],
   "source": [
    "mod_df.tail(10)"
   ]
  },
  {
   "cell_type": "code",
   "execution_count": 91,
   "id": "80050f43",
   "metadata": {},
   "outputs": [
    {
     "data": {
      "text/html": [
       "<div>\n",
       "<style scoped>\n",
       "    .dataframe tbody tr th:only-of-type {\n",
       "        vertical-align: middle;\n",
       "    }\n",
       "\n",
       "    .dataframe tbody tr th {\n",
       "        vertical-align: top;\n",
       "    }\n",
       "\n",
       "    .dataframe thead th {\n",
       "        text-align: right;\n",
       "    }\n",
       "</style>\n",
       "<table border=\"1\" class=\"dataframe\">\n",
       "  <thead>\n",
       "    <tr style=\"text-align: right;\">\n",
       "      <th></th>\n",
       "      <th>DATE</th>\n",
       "      <th>STORE_NBR</th>\n",
       "      <th>LYLTY_CARD_NBR</th>\n",
       "      <th>TXN_ID</th>\n",
       "      <th>PROD_NBR</th>\n",
       "      <th>PROD_QTY</th>\n",
       "      <th>TOT_SALES</th>\n",
       "      <th>PACK_SIZE</th>\n",
       "    </tr>\n",
       "  </thead>\n",
       "  <tbody>\n",
       "    <tr>\n",
       "      <th>count</th>\n",
       "      <td>264836.000000</td>\n",
       "      <td>264836.000000</td>\n",
       "      <td>2.648360e+05</td>\n",
       "      <td>2.648360e+05</td>\n",
       "      <td>264836.000000</td>\n",
       "      <td>264836.000000</td>\n",
       "      <td>264836.000000</td>\n",
       "      <td>264836.000000</td>\n",
       "    </tr>\n",
       "    <tr>\n",
       "      <th>mean</th>\n",
       "      <td>43426.641748</td>\n",
       "      <td>134.976325</td>\n",
       "      <td>1.354283e+05</td>\n",
       "      <td>1.350374e+05</td>\n",
       "      <td>56.554294</td>\n",
       "      <td>1.903533</td>\n",
       "      <td>7.296324</td>\n",
       "      <td>182.578607</td>\n",
       "    </tr>\n",
       "    <tr>\n",
       "      <th>std</th>\n",
       "      <td>1278.501843</td>\n",
       "      <td>76.827631</td>\n",
       "      <td>8.064873e+04</td>\n",
       "      <td>7.820212e+04</td>\n",
       "      <td>32.829165</td>\n",
       "      <td>0.333511</td>\n",
       "      <td>2.508395</td>\n",
       "      <td>63.952950</td>\n",
       "    </tr>\n",
       "    <tr>\n",
       "      <th>min</th>\n",
       "      <td>20.000000</td>\n",
       "      <td>1.000000</td>\n",
       "      <td>2.000000e+01</td>\n",
       "      <td>1.000000e+00</td>\n",
       "      <td>1.000000</td>\n",
       "      <td>1.000000</td>\n",
       "      <td>1.500000</td>\n",
       "      <td>20.000000</td>\n",
       "    </tr>\n",
       "    <tr>\n",
       "      <th>25%</th>\n",
       "      <td>43373.000000</td>\n",
       "      <td>69.000000</td>\n",
       "      <td>6.925075e+04</td>\n",
       "      <td>6.741675e+04</td>\n",
       "      <td>28.000000</td>\n",
       "      <td>2.000000</td>\n",
       "      <td>5.400000</td>\n",
       "      <td>150.000000</td>\n",
       "    </tr>\n",
       "    <tr>\n",
       "      <th>50%</th>\n",
       "      <td>43464.000000</td>\n",
       "      <td>130.000000</td>\n",
       "      <td>1.303265e+05</td>\n",
       "      <td>1.350145e+05</td>\n",
       "      <td>56.000000</td>\n",
       "      <td>2.000000</td>\n",
       "      <td>7.400000</td>\n",
       "      <td>170.000000</td>\n",
       "    </tr>\n",
       "    <tr>\n",
       "      <th>75%</th>\n",
       "      <td>43555.000000</td>\n",
       "      <td>203.000000</td>\n",
       "      <td>2.030800e+05</td>\n",
       "      <td>2.026382e+05</td>\n",
       "      <td>85.000000</td>\n",
       "      <td>2.000000</td>\n",
       "      <td>9.200000</td>\n",
       "      <td>175.000000</td>\n",
       "    </tr>\n",
       "    <tr>\n",
       "      <th>max</th>\n",
       "      <td>43646.000000</td>\n",
       "      <td>272.000000</td>\n",
       "      <td>2.373711e+06</td>\n",
       "      <td>2.415841e+06</td>\n",
       "      <td>114.000000</td>\n",
       "      <td>5.000000</td>\n",
       "      <td>20.000000</td>\n",
       "      <td>376.000000</td>\n",
       "    </tr>\n",
       "  </tbody>\n",
       "</table>\n",
       "</div>"
      ],
      "text/plain": [
       "                DATE      STORE_NBR  LYLTY_CARD_NBR        TXN_ID  \\\n",
       "count  264836.000000  264836.000000    2.648360e+05  2.648360e+05   \n",
       "mean    43426.641748     134.976325    1.354283e+05  1.350374e+05   \n",
       "std      1278.501843      76.827631    8.064873e+04  7.820212e+04   \n",
       "min        20.000000       1.000000    2.000000e+01  1.000000e+00   \n",
       "25%     43373.000000      69.000000    6.925075e+04  6.741675e+04   \n",
       "50%     43464.000000     130.000000    1.303265e+05  1.350145e+05   \n",
       "75%     43555.000000     203.000000    2.030800e+05  2.026382e+05   \n",
       "max     43646.000000     272.000000    2.373711e+06  2.415841e+06   \n",
       "\n",
       "            PROD_NBR       PROD_QTY      TOT_SALES      PACK_SIZE  \n",
       "count  264836.000000  264836.000000  264836.000000  264836.000000  \n",
       "mean       56.554294       1.903533       7.296324     182.578607  \n",
       "std        32.829165       0.333511       2.508395      63.952950  \n",
       "min         1.000000       1.000000       1.500000      20.000000  \n",
       "25%        28.000000       2.000000       5.400000     150.000000  \n",
       "50%        56.000000       2.000000       7.400000     170.000000  \n",
       "75%        85.000000       2.000000       9.200000     175.000000  \n",
       "max       114.000000       5.000000      20.000000     376.000000  "
      ]
     },
     "execution_count": 91,
     "metadata": {},
     "output_type": "execute_result"
    }
   ],
   "source": [
    "mod_df.describe()"
   ]
  },
  {
   "cell_type": "code",
   "execution_count": 92,
   "id": "e51c3806",
   "metadata": {},
   "outputs": [
    {
     "name": "stdout",
     "output_type": "stream",
     "text": [
      "<class 'pandas.core.frame.DataFrame'>\n",
      "RangeIndex: 264836 entries, 0 to 264835\n",
      "Data columns (total 10 columns):\n",
      " #   Column          Non-Null Count   Dtype  \n",
      "---  ------          --------------   -----  \n",
      " 0   DATE            264836 non-null  int64  \n",
      " 1   STORE_NBR       264836 non-null  int64  \n",
      " 2   LYLTY_CARD_NBR  264836 non-null  int64  \n",
      " 3   TXN_ID          264836 non-null  int64  \n",
      " 4   PROD_NBR        264836 non-null  int64  \n",
      " 5   PROD_NAME       264836 non-null  object \n",
      " 6   PROD_QTY        264836 non-null  int64  \n",
      " 7   TOT_SALES       264836 non-null  float64\n",
      " 8   PACK_SIZE       264836 non-null  float64\n",
      " 9   BRD_NAME        264836 non-null  object \n",
      "dtypes: float64(2), int64(6), object(2)\n",
      "memory usage: 20.2+ MB\n"
     ]
    }
   ],
   "source": [
    "mod_df.info()"
   ]
  },
  {
   "cell_type": "code",
   "execution_count": 94,
   "id": "68755604",
   "metadata": {},
   "outputs": [
    {
     "data": {
      "text/plain": [
       "DATE              0\n",
       "STORE_NBR         0\n",
       "LYLTY_CARD_NBR    0\n",
       "TXN_ID            0\n",
       "PROD_NBR          0\n",
       "PROD_NAME         0\n",
       "PROD_QTY          0\n",
       "TOT_SALES         0\n",
       "PACK_SIZE         0\n",
       "BRD_NAME          0\n",
       "dtype: int64"
      ]
     },
     "execution_count": 94,
     "metadata": {},
     "output_type": "execute_result"
    }
   ],
   "source": [
    "mod_df.isnull().sum()"
   ]
  },
  {
   "cell_type": "markdown",
   "id": "5b99bf81",
   "metadata": {},
   "source": [
    "## Saving into csv file"
   ]
  },
  {
   "cell_type": "code",
   "execution_count": 96,
   "id": "48d314a5",
   "metadata": {},
   "outputs": [],
   "source": [
    "mod_df.to_csv('Processed_Customer_Analytics.csv')"
   ]
  },
  {
   "cell_type": "code",
   "execution_count": 97,
   "id": "4e1486a2",
   "metadata": {},
   "outputs": [],
   "source": [
    "mod_df.to_excel('Processed_Customer_Analytics.xlsx')"
   ]
  },
  {
   "cell_type": "code",
   "execution_count": null,
   "id": "a79ff508",
   "metadata": {},
   "outputs": [],
   "source": []
  }
 ],
 "metadata": {
  "kernelspec": {
   "display_name": "Python 3 (ipykernel)",
   "language": "python",
   "name": "python3"
  },
  "language_info": {
   "codemirror_mode": {
    "name": "ipython",
    "version": 3
   },
   "file_extension": ".py",
   "mimetype": "text/x-python",
   "name": "python",
   "nbconvert_exporter": "python",
   "pygments_lexer": "ipython3",
   "version": "3.9.6"
  }
 },
 "nbformat": 4,
 "nbformat_minor": 5
}
